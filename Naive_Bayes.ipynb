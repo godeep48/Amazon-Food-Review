{
 "cells": [
  {
   "cell_type": "markdown",
   "metadata": {},
   "source": [
    "# Amazon Fine Food Reviews Analysis\n",
    "\n",
    "\n",
    "Data Source: https://www.kaggle.com/snap/amazon-fine-food-reviews <br>\n",
    "\n",
    "EDA: https://nycdatascience.com/blog/student-works/amazon-fine-foods-visualization/\n",
    "\n",
    "\n",
    "The Amazon Fine Food Reviews dataset consists of reviews of fine foods from Amazon.<br>\n",
    "\n",
    "Number of reviews: 568,454<br>\n",
    "Number of users: 256,059<br>\n",
    "Number of products: 74,258<br>\n",
    "Timespan: Oct 1999 - Oct 2012<br>\n",
    "Number of Attributes/Columns in data: 10 \n",
    "\n",
    "Attribute Information:\n",
    "\n",
    "1. Id\n",
    "2. ProductId - unique identifier for the product\n",
    "3. UserId - unqiue identifier for the user\n",
    "4. ProfileName\n",
    "5. HelpfulnessNumerator - number of users who found the review helpful\n",
    "6. HelpfulnessDenominator - number of users who indicated whether they found the review helpful or not\n",
    "7. Score - rating between 1 and 5\n",
    "8. Time - timestamp for the review\n",
    "9. Summary - brief summary of the review\n",
    "10. Text - text of the review\n",
    "\n",
    "\n",
    "#### Objective:\n",
    "Given a review, determine whether the review is positive (Rating of 4 or 5) or negative (rating of 1 or 2).\n",
    "\n",
    "<br>\n",
    "[Q] How to determine if a review is positive or negative?<br>\n",
    "<br> \n",
    "[Ans] We could use the Score/Rating. A rating of 4 or 5 could be cosnidered a positive review. A review of 1 or 2 could be considered negative. A review of 3 is nuetral and ignored. This is an approximate and proxy way of determining the polarity (positivity/negativity) of a review.\n",
    "\n",
    "\n"
   ]
  },
  {
   "cell_type": "markdown",
   "metadata": {},
   "source": [
    "## Loading the data\n",
    "\n",
    "The dataset is available in two forms\n",
    "1. .csv file\n",
    "2. SQLite Database\n",
    "\n",
    "In order to load the data, We have used the SQLITE dataset as it easier to query the data and visualise the data efficiently.\n",
    "<br> \n",
    "\n",
    "Here as we only want to get the global sentiment of the recommendations (positive or negative), we will purposefully ignore all Scores equal to 3. If the score id above 3, then the recommendation wil be set to \"positive\". Otherwise, it will be set to \"negative\"."
   ]
  },
  {
   "cell_type": "code",
   "execution_count": 1,
   "metadata": {},
   "outputs": [
    {
     "name": "stderr",
     "output_type": "stream",
     "text": [
      "C:\\ProgramData\\Anaconda3\\lib\\site-packages\\gensim\\utils.py:1197: UserWarning: detected Windows; aliasing chunkize to chunkize_serial\n",
      "  warnings.warn(\"detected Windows; aliasing chunkize to chunkize_serial\")\n"
     ]
    }
   ],
   "source": [
    "%matplotlib inline\n",
    "import warnings\n",
    "warnings.filterwarnings(\"ignore\")\n",
    "\n",
    "import sqlite3\n",
    "import pandas as pd\n",
    "import numpy as np\n",
    "import nltk\n",
    "import string\n",
    "import matplotlib.pyplot as plt\n",
    "import seaborn as sns\n",
    "from sklearn.feature_extraction.text import TfidfTransformer\n",
    "from sklearn.feature_extraction.text import TfidfVectorizer\n",
    "\n",
    "from sklearn.feature_extraction.text import CountVectorizer\n",
    "from sklearn.metrics import confusion_matrix\n",
    "from sklearn import metrics\n",
    "from sklearn.metrics import roc_curve, auc\n",
    "from nltk.stem.porter import PorterStemmer\n",
    "\n",
    "import re\n",
    "# Tutorial about Python regular expressions: https://pymotw.com/2/re/\n",
    "import string\n",
    "from nltk.corpus import stopwords\n",
    "from nltk.stem import PorterStemmer\n",
    "from nltk.stem.wordnet import WordNetLemmatizer\n",
    "\n",
    "from gensim.models import Word2Vec\n",
    "from gensim.models import KeyedVectors\n",
    "import pickle\n",
    "\n",
    "from tqdm import tqdm\n",
    "import os"
   ]
  },
  {
   "cell_type": "markdown",
   "metadata": {},
   "source": [
    "# 1. Read Datas"
   ]
  },
  {
   "cell_type": "code",
   "execution_count": 2,
   "metadata": {},
   "outputs": [],
   "source": [
    "# using the SQLite Table to read data.\n",
    "sql = sqlite3.connect(\"database.sqlite\")\n",
    "#filtering only positive and negative reviews i.e. \n",
    "# not taking into consideration those reviews with Score=3\n",
    "# SELECT * FROM Reviews WHERE Score != 3 LIMIT 500000, will give top 500000 data points\n",
    "# you can change the number to any other number based on your computing power\n",
    "\n",
    "# filtered_data = pd.read_sql_query(\"\"\" SELECT * FROM Reviews WHERE Score != 3 LIMIT 500000\"\"\", con) \n",
    "# for tsne assignment you can take 5k data points\n",
    "data = pd.read_sql_query(\"\"\"select * from Reviews WHERE Score != 3\"\"\", sql)\n",
    "# Give reviews with Score>3 a positive rating, and reviews with a score<3 a negative rating.\n",
    "\n",
    "def partition(x):\n",
    "    if x<3:\n",
    "        return 0\n",
    "    else:\n",
    "        return 1 \n",
    "#changing reviews with score less than 3 to be positive and vice-versa\n",
    "part = data[\"Score\"].map(partition)\n",
    "data[\"Score\"] = part"
   ]
  },
  {
   "cell_type": "code",
   "execution_count": 3,
   "metadata": {},
   "outputs": [
    {
     "data": {
      "text/html": [
       "<div>\n",
       "<style scoped>\n",
       "    .dataframe tbody tr th:only-of-type {\n",
       "        vertical-align: middle;\n",
       "    }\n",
       "\n",
       "    .dataframe tbody tr th {\n",
       "        vertical-align: top;\n",
       "    }\n",
       "\n",
       "    .dataframe thead th {\n",
       "        text-align: right;\n",
       "    }\n",
       "</style>\n",
       "<table border=\"1\" class=\"dataframe\">\n",
       "  <thead>\n",
       "    <tr style=\"text-align: right;\">\n",
       "      <th></th>\n",
       "      <th>Id</th>\n",
       "      <th>ProductId</th>\n",
       "      <th>UserId</th>\n",
       "      <th>ProfileName</th>\n",
       "      <th>HelpfulnessNumerator</th>\n",
       "      <th>HelpfulnessDenominator</th>\n",
       "      <th>Score</th>\n",
       "      <th>Time</th>\n",
       "      <th>Summary</th>\n",
       "      <th>Text</th>\n",
       "    </tr>\n",
       "  </thead>\n",
       "  <tbody>\n",
       "    <tr>\n",
       "      <th>0</th>\n",
       "      <td>1</td>\n",
       "      <td>B001E4KFG0</td>\n",
       "      <td>A3SGXH7AUHU8GW</td>\n",
       "      <td>delmartian</td>\n",
       "      <td>1</td>\n",
       "      <td>1</td>\n",
       "      <td>1</td>\n",
       "      <td>1303862400</td>\n",
       "      <td>Good Quality Dog Food</td>\n",
       "      <td>I have bought several of the Vitality canned d...</td>\n",
       "    </tr>\n",
       "    <tr>\n",
       "      <th>1</th>\n",
       "      <td>2</td>\n",
       "      <td>B00813GRG4</td>\n",
       "      <td>A1D87F6ZCVE5NK</td>\n",
       "      <td>dll pa</td>\n",
       "      <td>0</td>\n",
       "      <td>0</td>\n",
       "      <td>0</td>\n",
       "      <td>1346976000</td>\n",
       "      <td>Not as Advertised</td>\n",
       "      <td>Product arrived labeled as Jumbo Salted Peanut...</td>\n",
       "    </tr>\n",
       "    <tr>\n",
       "      <th>2</th>\n",
       "      <td>3</td>\n",
       "      <td>B000LQOCH0</td>\n",
       "      <td>ABXLMWJIXXAIN</td>\n",
       "      <td>Natalia Corres \"Natalia Corres\"</td>\n",
       "      <td>1</td>\n",
       "      <td>1</td>\n",
       "      <td>1</td>\n",
       "      <td>1219017600</td>\n",
       "      <td>\"Delight\" says it all</td>\n",
       "      <td>This is a confection that has been around a fe...</td>\n",
       "    </tr>\n",
       "    <tr>\n",
       "      <th>3</th>\n",
       "      <td>4</td>\n",
       "      <td>B000UA0QIQ</td>\n",
       "      <td>A395BORC6FGVXV</td>\n",
       "      <td>Karl</td>\n",
       "      <td>3</td>\n",
       "      <td>3</td>\n",
       "      <td>0</td>\n",
       "      <td>1307923200</td>\n",
       "      <td>Cough Medicine</td>\n",
       "      <td>If you are looking for the secret ingredient i...</td>\n",
       "    </tr>\n",
       "    <tr>\n",
       "      <th>4</th>\n",
       "      <td>5</td>\n",
       "      <td>B006K2ZZ7K</td>\n",
       "      <td>A1UQRSCLF8GW1T</td>\n",
       "      <td>Michael D. Bigham \"M. Wassir\"</td>\n",
       "      <td>0</td>\n",
       "      <td>0</td>\n",
       "      <td>1</td>\n",
       "      <td>1350777600</td>\n",
       "      <td>Great taffy</td>\n",
       "      <td>Great taffy at a great price.  There was a wid...</td>\n",
       "    </tr>\n",
       "  </tbody>\n",
       "</table>\n",
       "</div>"
      ],
      "text/plain": [
       "   Id   ProductId          UserId                      ProfileName  \\\n",
       "0   1  B001E4KFG0  A3SGXH7AUHU8GW                       delmartian   \n",
       "1   2  B00813GRG4  A1D87F6ZCVE5NK                           dll pa   \n",
       "2   3  B000LQOCH0   ABXLMWJIXXAIN  Natalia Corres \"Natalia Corres\"   \n",
       "3   4  B000UA0QIQ  A395BORC6FGVXV                             Karl   \n",
       "4   5  B006K2ZZ7K  A1UQRSCLF8GW1T    Michael D. Bigham \"M. Wassir\"   \n",
       "\n",
       "   HelpfulnessNumerator  HelpfulnessDenominator  Score        Time  \\\n",
       "0                     1                       1      1  1303862400   \n",
       "1                     0                       0      0  1346976000   \n",
       "2                     1                       1      1  1219017600   \n",
       "3                     3                       3      0  1307923200   \n",
       "4                     0                       0      1  1350777600   \n",
       "\n",
       "                 Summary                                               Text  \n",
       "0  Good Quality Dog Food  I have bought several of the Vitality canned d...  \n",
       "1      Not as Advertised  Product arrived labeled as Jumbo Salted Peanut...  \n",
       "2  \"Delight\" says it all  This is a confection that has been around a fe...  \n",
       "3         Cough Medicine  If you are looking for the secret ingredient i...  \n",
       "4            Great taffy  Great taffy at a great price.  There was a wid...  "
      ]
     },
     "execution_count": 3,
     "metadata": {},
     "output_type": "execute_result"
    }
   ],
   "source": [
    "data.head()"
   ]
  },
  {
   "cell_type": "markdown",
   "metadata": {},
   "source": [
    "<b>Duplicate Datas</b>"
   ]
  },
  {
   "cell_type": "code",
   "execution_count": 4,
   "metadata": {},
   "outputs": [],
   "source": [
    "new_data = pd.read_sql_query(\"\"\"SELECT UserId, ProductId, ProfileName, Time, Score, Text, COUNT(*) from Reviews\n",
    "GROUP BY UserId\n",
    "HAVING COUNT(*)>1\"\"\",sql)"
   ]
  },
  {
   "cell_type": "code",
   "execution_count": 5,
   "metadata": {},
   "outputs": [
    {
     "data": {
      "text/html": [
       "<div>\n",
       "<style scoped>\n",
       "    .dataframe tbody tr th:only-of-type {\n",
       "        vertical-align: middle;\n",
       "    }\n",
       "\n",
       "    .dataframe tbody tr th {\n",
       "        vertical-align: top;\n",
       "    }\n",
       "\n",
       "    .dataframe thead th {\n",
       "        text-align: right;\n",
       "    }\n",
       "</style>\n",
       "<table border=\"1\" class=\"dataframe\">\n",
       "  <thead>\n",
       "    <tr style=\"text-align: right;\">\n",
       "      <th></th>\n",
       "      <th>UserId</th>\n",
       "      <th>ProductId</th>\n",
       "      <th>ProfileName</th>\n",
       "      <th>Time</th>\n",
       "      <th>Score</th>\n",
       "      <th>Text</th>\n",
       "      <th>COUNT(*)</th>\n",
       "    </tr>\n",
       "  </thead>\n",
       "  <tbody>\n",
       "    <tr>\n",
       "      <th>0</th>\n",
       "      <td>#oc-R115TNMSPFT9I7</td>\n",
       "      <td>B005ZBZLT4</td>\n",
       "      <td>Breyton</td>\n",
       "      <td>1331510400</td>\n",
       "      <td>2</td>\n",
       "      <td>Overall its just OK when considering the price...</td>\n",
       "      <td>2</td>\n",
       "    </tr>\n",
       "    <tr>\n",
       "      <th>1</th>\n",
       "      <td>#oc-R11D9D7SHXIJB9</td>\n",
       "      <td>B005HG9ESG</td>\n",
       "      <td>Louis E. Emory \"hoppy\"</td>\n",
       "      <td>1342396800</td>\n",
       "      <td>5</td>\n",
       "      <td>My wife has recurring extreme muscle spasms, u...</td>\n",
       "      <td>3</td>\n",
       "    </tr>\n",
       "    <tr>\n",
       "      <th>2</th>\n",
       "      <td>#oc-R11DNU2NBKQ23Z</td>\n",
       "      <td>B005ZBZLT4</td>\n",
       "      <td>Kim Cieszykowski</td>\n",
       "      <td>1348531200</td>\n",
       "      <td>1</td>\n",
       "      <td>This coffee is horrible and unfortunately not ...</td>\n",
       "      <td>2</td>\n",
       "    </tr>\n",
       "    <tr>\n",
       "      <th>3</th>\n",
       "      <td>#oc-R11O5J5ZVQE25C</td>\n",
       "      <td>B005HG9ESG</td>\n",
       "      <td>Penguin Chick</td>\n",
       "      <td>1346889600</td>\n",
       "      <td>5</td>\n",
       "      <td>This will be the bottle that you grab from the...</td>\n",
       "      <td>3</td>\n",
       "    </tr>\n",
       "    <tr>\n",
       "      <th>4</th>\n",
       "      <td>#oc-R12KPBODL2B5ZD</td>\n",
       "      <td>B007OSBEV0</td>\n",
       "      <td>Christopher P. Presta</td>\n",
       "      <td>1348617600</td>\n",
       "      <td>1</td>\n",
       "      <td>I didnt like this coffee. Instead of telling y...</td>\n",
       "      <td>2</td>\n",
       "    </tr>\n",
       "  </tbody>\n",
       "</table>\n",
       "</div>"
      ],
      "text/plain": [
       "               UserId   ProductId             ProfileName        Time  Score  \\\n",
       "0  #oc-R115TNMSPFT9I7  B005ZBZLT4                 Breyton  1331510400      2   \n",
       "1  #oc-R11D9D7SHXIJB9  B005HG9ESG  Louis E. Emory \"hoppy\"  1342396800      5   \n",
       "2  #oc-R11DNU2NBKQ23Z  B005ZBZLT4        Kim Cieszykowski  1348531200      1   \n",
       "3  #oc-R11O5J5ZVQE25C  B005HG9ESG           Penguin Chick  1346889600      5   \n",
       "4  #oc-R12KPBODL2B5ZD  B007OSBEV0   Christopher P. Presta  1348617600      1   \n",
       "\n",
       "                                                Text  COUNT(*)  \n",
       "0  Overall its just OK when considering the price...         2  \n",
       "1  My wife has recurring extreme muscle spasms, u...         3  \n",
       "2  This coffee is horrible and unfortunately not ...         2  \n",
       "3  This will be the bottle that you grab from the...         3  \n",
       "4  I didnt like this coffee. Instead of telling y...         2  "
      ]
     },
     "execution_count": 5,
     "metadata": {},
     "output_type": "execute_result"
    }
   ],
   "source": [
    "new_data.head()"
   ]
  },
  {
   "cell_type": "code",
   "execution_count": 6,
   "metadata": {},
   "outputs": [
    {
     "data": {
      "text/html": [
       "<div>\n",
       "<style scoped>\n",
       "    .dataframe tbody tr th:only-of-type {\n",
       "        vertical-align: middle;\n",
       "    }\n",
       "\n",
       "    .dataframe tbody tr th {\n",
       "        vertical-align: top;\n",
       "    }\n",
       "\n",
       "    .dataframe thead th {\n",
       "        text-align: right;\n",
       "    }\n",
       "</style>\n",
       "<table border=\"1\" class=\"dataframe\">\n",
       "  <thead>\n",
       "    <tr style=\"text-align: right;\">\n",
       "      <th></th>\n",
       "      <th>UserId</th>\n",
       "      <th>ProductId</th>\n",
       "      <th>ProfileName</th>\n",
       "      <th>Time</th>\n",
       "      <th>Score</th>\n",
       "      <th>Text</th>\n",
       "      <th>COUNT(*)</th>\n",
       "    </tr>\n",
       "  </thead>\n",
       "  <tbody>\n",
       "    <tr>\n",
       "      <th>57359</th>\n",
       "      <td>A3OXHLG6DIBRW8</td>\n",
       "      <td>B002O3VHXU</td>\n",
       "      <td>C. F. Hill \"CFH\"</td>\n",
       "      <td>1282176000</td>\n",
       "      <td>5</td>\n",
       "      <td>Green Mountain \"Nantucket Blend\" K-Cups make a...</td>\n",
       "      <td>448</td>\n",
       "    </tr>\n",
       "  </tbody>\n",
       "</table>\n",
       "</div>"
      ],
      "text/plain": [
       "               UserId   ProductId       ProfileName        Time  Score  \\\n",
       "57359  A3OXHLG6DIBRW8  B002O3VHXU  C. F. Hill \"CFH\"  1282176000      5   \n",
       "\n",
       "                                                    Text  COUNT(*)  \n",
       "57359  Green Mountain \"Nantucket Blend\" K-Cups make a...       448  "
      ]
     },
     "execution_count": 6,
     "metadata": {},
     "output_type": "execute_result"
    }
   ],
   "source": [
    "new_data[new_data[\"COUNT(*)\"] == new_data[\"COUNT(*)\"].max()]"
   ]
  },
  {
   "cell_type": "code",
   "execution_count": 7,
   "metadata": {},
   "outputs": [
    {
     "data": {
      "text/plain": [
       "2     32658\n",
       "3     13828\n",
       "4     10589\n",
       "5      5417\n",
       "6      4137\n",
       "7      2691\n",
       "8      1953\n",
       "9      1805\n",
       "10     1231\n",
       "11      991\n",
       "Name: COUNT(*), dtype: int64"
      ]
     },
     "execution_count": 7,
     "metadata": {},
     "output_type": "execute_result"
    }
   ],
   "source": [
    "new_data[\"COUNT(*)\"].value_counts()[0:10]"
   ]
  },
  {
   "cell_type": "code",
   "execution_count": 8,
   "metadata": {},
   "outputs": [
    {
     "data": {
      "text/plain": [
       "(80668, 7)"
      ]
     },
     "execution_count": 8,
     "metadata": {},
     "output_type": "execute_result"
    }
   ],
   "source": [
    "new_data.shape"
   ]
  },
  {
   "cell_type": "code",
   "execution_count": 9,
   "metadata": {},
   "outputs": [
    {
     "data": {
      "text/plain": [
       "393063"
      ]
     },
     "execution_count": 9,
     "metadata": {},
     "output_type": "execute_result"
    }
   ],
   "source": [
    "new_data[\"COUNT(*)\"].sum()"
   ]
  },
  {
   "cell_type": "markdown",
   "metadata": {},
   "source": [
    "#  Exploratory Data Analysis\n",
    "\n",
    "## 2. Data Cleaning: Deduplication\n",
    "\n",
    "It is observed (as shown in the table below) that the reviews data had many duplicate entries. Hence it was necessary to remove duplicates in order to get unbiased results for the analysis of the data.  Following is an example:"
   ]
  },
  {
   "cell_type": "code",
   "execution_count": 10,
   "metadata": {},
   "outputs": [
    {
     "data": {
      "text/html": [
       "<div>\n",
       "<style scoped>\n",
       "    .dataframe tbody tr th:only-of-type {\n",
       "        vertical-align: middle;\n",
       "    }\n",
       "\n",
       "    .dataframe tbody tr th {\n",
       "        vertical-align: top;\n",
       "    }\n",
       "\n",
       "    .dataframe thead th {\n",
       "        text-align: right;\n",
       "    }\n",
       "</style>\n",
       "<table border=\"1\" class=\"dataframe\">\n",
       "  <thead>\n",
       "    <tr style=\"text-align: right;\">\n",
       "      <th></th>\n",
       "      <th>Id</th>\n",
       "      <th>ProductId</th>\n",
       "      <th>UserId</th>\n",
       "      <th>ProfileName</th>\n",
       "      <th>HelpfulnessNumerator</th>\n",
       "      <th>HelpfulnessDenominator</th>\n",
       "      <th>Score</th>\n",
       "      <th>Time</th>\n",
       "      <th>Summary</th>\n",
       "      <th>Text</th>\n",
       "    </tr>\n",
       "  </thead>\n",
       "  <tbody>\n",
       "    <tr>\n",
       "      <th>0</th>\n",
       "      <td>78445</td>\n",
       "      <td>B000HDL1RQ</td>\n",
       "      <td>AR5J8UI46CURR</td>\n",
       "      <td>Geetha Krishnan</td>\n",
       "      <td>2</td>\n",
       "      <td>2</td>\n",
       "      <td>5</td>\n",
       "      <td>1199577600</td>\n",
       "      <td>LOACKER QUADRATINI VANILLA WAFERS</td>\n",
       "      <td>DELICIOUS WAFERS. I FIND THAT EUROPEAN WAFERS ...</td>\n",
       "    </tr>\n",
       "    <tr>\n",
       "      <th>1</th>\n",
       "      <td>138317</td>\n",
       "      <td>B000HDOPYC</td>\n",
       "      <td>AR5J8UI46CURR</td>\n",
       "      <td>Geetha Krishnan</td>\n",
       "      <td>2</td>\n",
       "      <td>2</td>\n",
       "      <td>5</td>\n",
       "      <td>1199577600</td>\n",
       "      <td>LOACKER QUADRATINI VANILLA WAFERS</td>\n",
       "      <td>DELICIOUS WAFERS. I FIND THAT EUROPEAN WAFERS ...</td>\n",
       "    </tr>\n",
       "    <tr>\n",
       "      <th>2</th>\n",
       "      <td>138277</td>\n",
       "      <td>B000HDOPYM</td>\n",
       "      <td>AR5J8UI46CURR</td>\n",
       "      <td>Geetha Krishnan</td>\n",
       "      <td>2</td>\n",
       "      <td>2</td>\n",
       "      <td>5</td>\n",
       "      <td>1199577600</td>\n",
       "      <td>LOACKER QUADRATINI VANILLA WAFERS</td>\n",
       "      <td>DELICIOUS WAFERS. I FIND THAT EUROPEAN WAFERS ...</td>\n",
       "    </tr>\n",
       "    <tr>\n",
       "      <th>3</th>\n",
       "      <td>73791</td>\n",
       "      <td>B000HDOPZG</td>\n",
       "      <td>AR5J8UI46CURR</td>\n",
       "      <td>Geetha Krishnan</td>\n",
       "      <td>2</td>\n",
       "      <td>2</td>\n",
       "      <td>5</td>\n",
       "      <td>1199577600</td>\n",
       "      <td>LOACKER QUADRATINI VANILLA WAFERS</td>\n",
       "      <td>DELICIOUS WAFERS. I FIND THAT EUROPEAN WAFERS ...</td>\n",
       "    </tr>\n",
       "    <tr>\n",
       "      <th>4</th>\n",
       "      <td>155049</td>\n",
       "      <td>B000PAQ75C</td>\n",
       "      <td>AR5J8UI46CURR</td>\n",
       "      <td>Geetha Krishnan</td>\n",
       "      <td>2</td>\n",
       "      <td>2</td>\n",
       "      <td>5</td>\n",
       "      <td>1199577600</td>\n",
       "      <td>LOACKER QUADRATINI VANILLA WAFERS</td>\n",
       "      <td>DELICIOUS WAFERS. I FIND THAT EUROPEAN WAFERS ...</td>\n",
       "    </tr>\n",
       "  </tbody>\n",
       "</table>\n",
       "</div>"
      ],
      "text/plain": [
       "       Id   ProductId         UserId      ProfileName  HelpfulnessNumerator  \\\n",
       "0   78445  B000HDL1RQ  AR5J8UI46CURR  Geetha Krishnan                     2   \n",
       "1  138317  B000HDOPYC  AR5J8UI46CURR  Geetha Krishnan                     2   \n",
       "2  138277  B000HDOPYM  AR5J8UI46CURR  Geetha Krishnan                     2   \n",
       "3   73791  B000HDOPZG  AR5J8UI46CURR  Geetha Krishnan                     2   \n",
       "4  155049  B000PAQ75C  AR5J8UI46CURR  Geetha Krishnan                     2   \n",
       "\n",
       "   HelpfulnessDenominator  Score        Time  \\\n",
       "0                       2      5  1199577600   \n",
       "1                       2      5  1199577600   \n",
       "2                       2      5  1199577600   \n",
       "3                       2      5  1199577600   \n",
       "4                       2      5  1199577600   \n",
       "\n",
       "                             Summary  \\\n",
       "0  LOACKER QUADRATINI VANILLA WAFERS   \n",
       "1  LOACKER QUADRATINI VANILLA WAFERS   \n",
       "2  LOACKER QUADRATINI VANILLA WAFERS   \n",
       "3  LOACKER QUADRATINI VANILLA WAFERS   \n",
       "4  LOACKER QUADRATINI VANILLA WAFERS   \n",
       "\n",
       "                                                Text  \n",
       "0  DELICIOUS WAFERS. I FIND THAT EUROPEAN WAFERS ...  \n",
       "1  DELICIOUS WAFERS. I FIND THAT EUROPEAN WAFERS ...  \n",
       "2  DELICIOUS WAFERS. I FIND THAT EUROPEAN WAFERS ...  \n",
       "3  DELICIOUS WAFERS. I FIND THAT EUROPEAN WAFERS ...  \n",
       "4  DELICIOUS WAFERS. I FIND THAT EUROPEAN WAFERS ...  "
      ]
     },
     "execution_count": 10,
     "metadata": {},
     "output_type": "execute_result"
    }
   ],
   "source": [
    "display= pd.read_sql_query(\"\"\"\n",
    "SELECT *\n",
    "FROM Reviews\n",
    "WHERE Score != 3 AND UserId=\"AR5J8UI46CURR\"\n",
    "ORDER BY ProductID\n",
    "\"\"\", sql)\n",
    "display.head()"
   ]
  },
  {
   "cell_type": "markdown",
   "metadata": {},
   "source": [
    "As can be seen above the same user has multiple reviews of the with the same values for HelpfulnessNumerator, HelpfulnessDenominator, Score, Time, Summary and Text  and on doing analysis it was found that <br>\n",
    "<br> \n",
    "ProductId=B000HDOPZG was Loacker Quadratini Vanilla Wafer Cookies, 8.82-Ounce Packages (Pack of 8)<br>\n",
    "<br> \n",
    "ProductId=B000HDL1RQ was Loacker Quadratini Lemon Wafer Cookies, 8.82-Ounce Packages (Pack of 8) and so on<br>\n",
    "\n",
    "It was inferred after analysis that reviews with same parameters other than ProductId belonged to the same product just having different flavour or quantity. Hence in order to reduce redundancy it was decided to eliminate the rows having same parameters.<br>\n",
    "\n",
    "The method used for the same was that we first sort the data according to ProductId and then just keep the first similar product review and delelte the others. for eg. in the above just the review for ProductId=B000HDL1RQ remains. This method ensures that there is only one representative for each product and deduplication without sorting would lead to possibility of different representatives still existing for the same product."
   ]
  },
  {
   "cell_type": "code",
   "execution_count": 11,
   "metadata": {},
   "outputs": [
    {
     "name": "stdout",
     "output_type": "stream",
     "text": [
      "Shape of dataset: (364173, 10)\n",
      "About 30.74% of the original datas has been deleted due to duplication\n"
     ]
    }
   ],
   "source": [
    "data_sorted = data.sort_values('ProductId', axis=0, ascending=True, inplace=False, kind='quicksort', na_position='last')\n",
    "data_final = data_sorted.drop_duplicates(subset={\"UserId\",\"ProfileName\",\"Time\",\"Text\"}, keep='first', inplace=False)\n",
    "print(f\"Shape of dataset: {data_final.shape}\")\n",
    "print(f\"About {round((1-data_final.shape[0]/data_sorted.shape[0])*100,2)}%\\\n",
    " of the original datas has been deleted due to duplication\")"
   ]
  },
  {
   "cell_type": "markdown",
   "metadata": {},
   "source": [
    "<b>Observation:-</b> It was also seen that in two rows given below the value of HelpfulnessNumerator is greater than HelpfulnessDenominator which is not practically possible hence these two rows too are removed from calcualtions"
   ]
  },
  {
   "cell_type": "code",
   "execution_count": 12,
   "metadata": {},
   "outputs": [
    {
     "data": {
      "text/html": [
       "<div>\n",
       "<style scoped>\n",
       "    .dataframe tbody tr th:only-of-type {\n",
       "        vertical-align: middle;\n",
       "    }\n",
       "\n",
       "    .dataframe tbody tr th {\n",
       "        vertical-align: top;\n",
       "    }\n",
       "\n",
       "    .dataframe thead th {\n",
       "        text-align: right;\n",
       "    }\n",
       "</style>\n",
       "<table border=\"1\" class=\"dataframe\">\n",
       "  <thead>\n",
       "    <tr style=\"text-align: right;\">\n",
       "      <th></th>\n",
       "      <th>Id</th>\n",
       "      <th>ProductId</th>\n",
       "      <th>UserId</th>\n",
       "      <th>ProfileName</th>\n",
       "      <th>HelpfulnessNumerator</th>\n",
       "      <th>HelpfulnessDenominator</th>\n",
       "      <th>Score</th>\n",
       "      <th>Time</th>\n",
       "      <th>Summary</th>\n",
       "      <th>Text</th>\n",
       "    </tr>\n",
       "  </thead>\n",
       "  <tbody>\n",
       "    <tr>\n",
       "      <th>0</th>\n",
       "      <td>64422</td>\n",
       "      <td>B000MIDROQ</td>\n",
       "      <td>A161DK06JJMCYF</td>\n",
       "      <td>J. E. Stephens \"Jeanne\"</td>\n",
       "      <td>3</td>\n",
       "      <td>1</td>\n",
       "      <td>5</td>\n",
       "      <td>1224892800</td>\n",
       "      <td>Bought This for My Son at College</td>\n",
       "      <td>My son loves spaghetti so I didn't hesitate or...</td>\n",
       "    </tr>\n",
       "    <tr>\n",
       "      <th>1</th>\n",
       "      <td>44737</td>\n",
       "      <td>B001EQ55RW</td>\n",
       "      <td>A2V0I904FH7ABY</td>\n",
       "      <td>Ram</td>\n",
       "      <td>3</td>\n",
       "      <td>2</td>\n",
       "      <td>4</td>\n",
       "      <td>1212883200</td>\n",
       "      <td>Pure cocoa taste with crunchy almonds inside</td>\n",
       "      <td>It was almost a 'love at first bite' - the per...</td>\n",
       "    </tr>\n",
       "  </tbody>\n",
       "</table>\n",
       "</div>"
      ],
      "text/plain": [
       "      Id   ProductId          UserId              ProfileName  \\\n",
       "0  64422  B000MIDROQ  A161DK06JJMCYF  J. E. Stephens \"Jeanne\"   \n",
       "1  44737  B001EQ55RW  A2V0I904FH7ABY                      Ram   \n",
       "\n",
       "   HelpfulnessNumerator  HelpfulnessDenominator  Score        Time  \\\n",
       "0                     3                       1      5  1224892800   \n",
       "1                     3                       2      4  1212883200   \n",
       "\n",
       "                                        Summary  \\\n",
       "0             Bought This for My Son at College   \n",
       "1  Pure cocoa taste with crunchy almonds inside   \n",
       "\n",
       "                                                Text  \n",
       "0  My son loves spaghetti so I didn't hesitate or...  \n",
       "1  It was almost a 'love at first bite' - the per...  "
      ]
     },
     "execution_count": 12,
     "metadata": {},
     "output_type": "execute_result"
    }
   ],
   "source": [
    "display= pd.read_sql_query(\"\"\"\n",
    "SELECT *\n",
    "FROM Reviews\n",
    "WHERE Score != 3 AND Id=44737 OR Id=64422\n",
    "ORDER BY ProductID\n",
    "\"\"\", sql)\n",
    "\n",
    "display.head()"
   ]
  },
  {
   "cell_type": "code",
   "execution_count": 13,
   "metadata": {},
   "outputs": [],
   "source": [
    "data_final = data_final[data_final[\"HelpfulnessDenominator\"]>=data_final[\"HelpfulnessNumerator\"]]"
   ]
  },
  {
   "cell_type": "code",
   "execution_count": 14,
   "metadata": {},
   "outputs": [
    {
     "data": {
      "text/plain": [
       "(364171, 10)"
      ]
     },
     "execution_count": 14,
     "metadata": {},
     "output_type": "execute_result"
    }
   ],
   "source": [
    "data_final.shape"
   ]
  },
  {
   "cell_type": "code",
   "execution_count": 15,
   "metadata": {},
   "outputs": [
    {
     "data": {
      "text/plain": [
       "1    307061\n",
       "0     57110\n",
       "Name: Score, dtype: int64"
      ]
     },
     "execution_count": 15,
     "metadata": {},
     "output_type": "execute_result"
    }
   ],
   "source": [
    "data_final[\"Score\"].value_counts()"
   ]
  },
  {
   "cell_type": "code",
   "execution_count": 16,
   "metadata": {},
   "outputs": [
    {
     "name": "stdout",
     "output_type": "stream",
     "text": [
      "Negative reviews is just a 15.68% of total dataset\n"
     ]
    }
   ],
   "source": [
    "percent = data_final[\"Score\"].value_counts().min()/len(data_final[\"Score\"])\n",
    "print(f\"Negative reviews is just a {round(percent*100,2)}% of total dataset\")"
   ]
  },
  {
   "cell_type": "markdown",
   "metadata": {},
   "source": [
    "So obviously, the dataset is highly unbalanced and we cannot use accuracy score as the evaluation metrics."
   ]
  },
  {
   "cell_type": "markdown",
   "metadata": {},
   "source": [
    "# [3].  Text Preprocessing.\n",
    "\n",
    "Now that we have finished deduplication our data requires some preprocessing before we go on further with analysis and making the prediction model.\n",
    "\n",
    "Hence in the Preprocessing phase we do the following in the order below:-\n",
    "\n",
    "1. Begin by removing the html tags\n",
    "2. Remove any punctuations or limited set of special characters like , or . or # etc.\n",
    "3. Check if the word is made up of english letters and is not alpha-numeric\n",
    "4. Check to see if the length of the word is greater than 2 (as it was researched that there is no adjective in 2-letters)\n",
    "5. Convert the word to lowercase\n",
    "6. Remove Stopwords\n",
    "7. Finally Snowball Stemming the word (it was obsereved to be better than Porter Stemming)<br>\n",
    "\n",
    "After which we collect the words used to describe positive and negative reviews"
   ]
  },
  {
   "cell_type": "code",
   "execution_count": 17,
   "metadata": {},
   "outputs": [
    {
     "name": "stdout",
     "output_type": "stream",
     "text": [
      "this witty little book makes my son laugh at loud. i recite it in the car as we're driving along and he always can sing the refrain. he's learned about whales, India, drooping roses:  i love all the new words this book  introduces and the silliness of it all.  this is a classic book i am  willing to bet my son will STILL be able to recite from memory when he is  in college\n",
      "====================================================================================================\n",
      "I was really looking forward to these pods based on the reviews.  Starbucks is good, but I prefer bolder taste.... imagine my surprise when I ordered 2 boxes - both were expired! One expired back in 2005 for gosh sakes.  I admit that Amazon agreed to credit me for cost plus part of shipping, but geez, 2 years expired!!!  I'm hoping to find local San Diego area shoppe that carries pods so that I can try something different than starbucks.\n",
      "====================================================================================================\n",
      "Great ingredients although, chicken should have been 1st rather than chicken broth, the only thing I do not think belongs in it is Canola oil. Canola or rapeseed is not someting a dog would ever find in nature and if it did find rapeseed in nature and eat it, it would poison them. Today's Food industries have convinced the masses that Canola oil is a safe and even better oil than olive or virgin coconut, facts though say otherwise. Until the late 70's it was poisonous until they figured out a way to fix that. I still like it but it could be better.\n",
      "====================================================================================================\n",
      "The cans arrived all banged up.  I will never order from this company again.\n",
      "====================================================================================================\n"
     ]
    }
   ],
   "source": [
    "print(data_final[\"Text\"].values[0])\n",
    "print(\"=\"*100)\n",
    "print(data_final[\"Text\"].values[1000])\n",
    "print(\"=\"*100)\n",
    "print(data_final[\"Text\"].values[1500])\n",
    "print(\"=\"*100)\n",
    "print(data_final[\"Text\"].values[1700])\n",
    "print(\"=\"*100)"
   ]
  },
  {
   "cell_type": "code",
   "execution_count": 18,
   "metadata": {},
   "outputs": [],
   "source": [
    "from bs4 import BeautifulSoup\n",
    "#Remove HTML tags and URL from the reviews.\n",
    "def html_tag(phrase):\n",
    "    http_remove = re.sub(r\"http\\S+\", \"\",phrase)\n",
    "    html_remove = BeautifulSoup(http_remove, 'lxml').get_text()\n",
    "    return html_remove"
   ]
  },
  {
   "cell_type": "code",
   "execution_count": 19,
   "metadata": {},
   "outputs": [
    {
     "name": "stdout",
     "output_type": "stream",
     "text": [
      "Before tag Remover: \n",
      " this witty little book makes my son laugh at loud. i recite it in the car as we're driving along and he always can sing the refrain. he's learned about whales, India, drooping roses:  i love all the new words this book  introduces and the silliness of it all.  this is a classic book i am  willing to bet my son will STILL be able to recite from memory when he is  in college\n",
      "==========================================================================================\n",
      "After tag removed: \n",
      " this witty little book makes my son laugh at loud. i recite it in the car as we're driving along and he always can sing the refrain. he's learned about whales, India, drooping roses:  i love all the new words this book  introduces and the silliness of it all.  this is a classic book i am  willing to bet my son will STILL be able to recite from memory when he is  in college\n"
     ]
    }
   ],
   "source": [
    "phrase = data_final[\"Text\"].values[0]\n",
    "print(f\"Before tag Remover: \\n {phrase}\")\n",
    "print(\"=\"*90)\n",
    "phrase = html_tag(data_final[\"Text\"].values[0])\n",
    "print(f\"After tag removed: \\n {phrase}\")"
   ]
  },
  {
   "cell_type": "code",
   "execution_count": 20,
   "metadata": {},
   "outputs": [],
   "source": [
    "import re\n",
    "#remove words with numbers python: https://stackoverflow.com/a/18082370/4084039\n",
    "#remove spacial character: https://stackoverflow.com/a/5843547/4084039\n",
    "def decontracted(phrase):\n",
    "    # specific\n",
    "    phrase = re.sub(r\"won't\", \"will not\", phrase)\n",
    "    phrase = re.sub(r\"can\\'t\", \"can not\", phrase)\n",
    "\n",
    "    # general\n",
    "    phrase = re.sub(r\"n\\'t\", \" not\", phrase)\n",
    "    phrase = re.sub(r\"\\'re\", \" are\", phrase)\n",
    "    phrase = re.sub(r\"\\'s\", \" is\", phrase)\n",
    "    phrase = re.sub(r\"\\'d\", \" would\", phrase)\n",
    "    phrase = re.sub(r\"\\'ll\", \" will\", phrase)\n",
    "    phrase = re.sub(r\"\\'t\", \" not\", phrase)\n",
    "    phrase = re.sub(r\"\\'ve\", \" have\", phrase)\n",
    "    phrase = re.sub(r\"\\'m\", \" am\", phrase)\n",
    "    return phrase"
   ]
  },
  {
   "cell_type": "code",
   "execution_count": 21,
   "metadata": {},
   "outputs": [
    {
     "name": "stdout",
     "output_type": "stream",
     "text": [
      "Before: Great ingredients although, chicken should have been 1st rather than chicken broth, the only thing I do not think belongs in it is Canola oil. Canola or rapeseed is not someting a dog would ever find in nature and if it did find rapeseed in nature and eat it, it would poison them. Today's Food industries have convinced the masses that Canola oil is a safe and even better oil than olive or virgin coconut, facts though say otherwise. Until the late 70's it was poisonous until they figured out a way to fix that. I still like it but it could be better.\n",
      "==========================================================================================\n",
      "After: Great ingredients although, chicken should have been 1st rather than chicken broth, the only thing I do not think belongs in it is Canola oil. Canola or rapeseed is not someting a dog would ever find in nature and if it did find rapeseed in nature and eat it, it would poison them. Today is Food industries have convinced the masses that Canola oil is a safe and even better oil than olive or virgin coconut, facts though say otherwise. Until the late 70 is it was poisonous until they figured out a way to fix that. I still like it but it could be better.\n"
     ]
    }
   ],
   "source": [
    "phrase = data_final[\"Text\"].values[1500]\n",
    "print(f\"Before: {phrase}\")\n",
    "print(\"=\"*90)\n",
    "r1500 = html_tag(data_final[\"Text\"].values[1500])\n",
    "r1500 = decontracted(r1500)\n",
    "print(f\"After: {r1500}\")"
   ]
  },
  {
   "cell_type": "code",
   "execution_count": 22,
   "metadata": {},
   "outputs": [],
   "source": [
    "# https://gist.github.com/sebleier/554280\n",
    "# we are removing the words from the stop words list: 'no', 'nor', 'not'\n",
    "# <br /><br /> ==> after the above steps, we are getting \"br br\"\n",
    "# we are including them into stop words list\n",
    "# instead of <br /> if we have <br/> these tags would have revmoved in the 1st step\n",
    "stopwords= set(['br', 'the', 'i', 'me', 'my', 'myself', 'we', 'our', 'ours', 'ourselves', 'you', \"you're\", \"you've\",\\\n",
    "            \"you'll\", \"you'd\", 'your', 'yours', 'yourself', 'yourselves', 'he', 'him', 'his', 'himself', \\\n",
    "            'she', \"she's\", 'her', 'hers', 'herself', 'it', \"it's\", 'its', 'itself', 'they', 'them', 'their',\\\n",
    "            'theirs', 'themselves', 'what', 'which', 'who', 'whom', 'this', 'that', \"that'll\", 'these', 'those', \\\n",
    "            'am', 'is', 'are', 'was', 'were', 'be', 'been', 'being', 'have', 'has', 'had', 'having', 'do', 'does', \\\n",
    "            'did', 'doing', 'a', 'an', 'the', 'and', 'but', 'if', 'or', 'because', 'as', 'until', 'while', 'of', \\\n",
    "            'at', 'by', 'for', 'with', 'about', 'against', 'between', 'into', 'through', 'during', 'before', 'after',\\\n",
    "            'above', 'below', 'to', 'from', 'up', 'down', 'in', 'out', 'on', 'off', 'over', 'under', 'again', 'further',\\\n",
    "            'then', 'once', 'here', 'there', 'when', 'where', 'why', 'how', 'all', 'any', 'both', 'each', 'few', 'more',\\\n",
    "            'most', 'other', 'some', 'such', 'only', 'own', 'same', 'so', 'than', 'too', 'very', \\\n",
    "            's', 't', 'can', 'will', 'just', 'don', \"don't\", 'should', \"should've\", 'now', 'd', 'll', 'm', 'o', 're', \\\n",
    "            've', 'y', 'ain', 'aren', \"aren't\", 'couldn', \"couldn't\", 'didn', \"didn't\", 'doesn', \"doesn't\", 'hadn',\\\n",
    "            \"hadn't\", 'hasn', \"hasn't\", 'haven', \"haven't\", 'isn', \"isn't\", 'ma', 'mightn', \"mightn't\", 'mustn',\\\n",
    "            \"mustn't\", 'needn', \"needn't\", 'shan', \"shan't\", 'shouldn', \"shouldn't\", 'wasn', \"wasn't\", 'weren', \"weren't\", \\\n",
    "            'won', \"won't\", 'wouldn', \"wouldn't\"])"
   ]
  },
  {
   "cell_type": "code",
   "execution_count": 23,
   "metadata": {},
   "outputs": [
    {
     "data": {
      "text/plain": [
       "(364171, 10)"
      ]
     },
     "execution_count": 23,
     "metadata": {},
     "output_type": "execute_result"
    }
   ],
   "source": [
    "data_final.shape"
   ]
  },
  {
   "cell_type": "code",
   "execution_count": 24,
   "metadata": {},
   "outputs": [
    {
     "data": {
      "text/html": [
       "<div>\n",
       "<style scoped>\n",
       "    .dataframe tbody tr th:only-of-type {\n",
       "        vertical-align: middle;\n",
       "    }\n",
       "\n",
       "    .dataframe tbody tr th {\n",
       "        vertical-align: top;\n",
       "    }\n",
       "\n",
       "    .dataframe thead th {\n",
       "        text-align: right;\n",
       "    }\n",
       "</style>\n",
       "<table border=\"1\" class=\"dataframe\">\n",
       "  <thead>\n",
       "    <tr style=\"text-align: right;\">\n",
       "      <th></th>\n",
       "      <th>Id</th>\n",
       "      <th>ProductId</th>\n",
       "      <th>UserId</th>\n",
       "      <th>ProfileName</th>\n",
       "      <th>HelpfulnessNumerator</th>\n",
       "      <th>HelpfulnessDenominator</th>\n",
       "      <th>Score</th>\n",
       "      <th>Time</th>\n",
       "      <th>Summary</th>\n",
       "      <th>Text</th>\n",
       "    </tr>\n",
       "  </thead>\n",
       "  <tbody>\n",
       "    <tr>\n",
       "      <th>138706</th>\n",
       "      <td>150524</td>\n",
       "      <td>0006641040</td>\n",
       "      <td>ACITT7DI6IDDL</td>\n",
       "      <td>shari zychinski</td>\n",
       "      <td>0</td>\n",
       "      <td>0</td>\n",
       "      <td>1</td>\n",
       "      <td>939340800</td>\n",
       "      <td>EVERY book is educational</td>\n",
       "      <td>this witty little book makes my son laugh at l...</td>\n",
       "    </tr>\n",
       "    <tr>\n",
       "      <th>138688</th>\n",
       "      <td>150506</td>\n",
       "      <td>0006641040</td>\n",
       "      <td>A2IW4PEEKO2R0U</td>\n",
       "      <td>Tracy</td>\n",
       "      <td>1</td>\n",
       "      <td>1</td>\n",
       "      <td>1</td>\n",
       "      <td>1194739200</td>\n",
       "      <td>Love the book, miss the hard cover version</td>\n",
       "      <td>I grew up reading these Sendak books, and watc...</td>\n",
       "    </tr>\n",
       "    <tr>\n",
       "      <th>138689</th>\n",
       "      <td>150507</td>\n",
       "      <td>0006641040</td>\n",
       "      <td>A1S4A3IQ2MU7V4</td>\n",
       "      <td>sally sue \"sally sue\"</td>\n",
       "      <td>1</td>\n",
       "      <td>1</td>\n",
       "      <td>1</td>\n",
       "      <td>1191456000</td>\n",
       "      <td>chicken soup with rice months</td>\n",
       "      <td>This is a fun way for children to learn their ...</td>\n",
       "    </tr>\n",
       "    <tr>\n",
       "      <th>138690</th>\n",
       "      <td>150508</td>\n",
       "      <td>0006641040</td>\n",
       "      <td>AZGXZ2UUK6X</td>\n",
       "      <td>Catherine Hallberg \"(Kate)\"</td>\n",
       "      <td>1</td>\n",
       "      <td>1</td>\n",
       "      <td>1</td>\n",
       "      <td>1076025600</td>\n",
       "      <td>a good swingy rhythm for reading aloud</td>\n",
       "      <td>This is a great little book to read aloud- it ...</td>\n",
       "    </tr>\n",
       "    <tr>\n",
       "      <th>138691</th>\n",
       "      <td>150509</td>\n",
       "      <td>0006641040</td>\n",
       "      <td>A3CMRKGE0P909G</td>\n",
       "      <td>Teresa</td>\n",
       "      <td>3</td>\n",
       "      <td>4</td>\n",
       "      <td>1</td>\n",
       "      <td>1018396800</td>\n",
       "      <td>A great way to learn the months</td>\n",
       "      <td>This is a book of poetry about the months of t...</td>\n",
       "    </tr>\n",
       "  </tbody>\n",
       "</table>\n",
       "</div>"
      ],
      "text/plain": [
       "            Id   ProductId          UserId                  ProfileName  \\\n",
       "138706  150524  0006641040   ACITT7DI6IDDL              shari zychinski   \n",
       "138688  150506  0006641040  A2IW4PEEKO2R0U                        Tracy   \n",
       "138689  150507  0006641040  A1S4A3IQ2MU7V4        sally sue \"sally sue\"   \n",
       "138690  150508  0006641040     AZGXZ2UUK6X  Catherine Hallberg \"(Kate)\"   \n",
       "138691  150509  0006641040  A3CMRKGE0P909G                       Teresa   \n",
       "\n",
       "        HelpfulnessNumerator  HelpfulnessDenominator  Score        Time  \\\n",
       "138706                     0                       0      1   939340800   \n",
       "138688                     1                       1      1  1194739200   \n",
       "138689                     1                       1      1  1191456000   \n",
       "138690                     1                       1      1  1076025600   \n",
       "138691                     3                       4      1  1018396800   \n",
       "\n",
       "                                           Summary  \\\n",
       "138706                   EVERY book is educational   \n",
       "138688  Love the book, miss the hard cover version   \n",
       "138689               chicken soup with rice months   \n",
       "138690      a good swingy rhythm for reading aloud   \n",
       "138691             A great way to learn the months   \n",
       "\n",
       "                                                     Text  \n",
       "138706  this witty little book makes my son laugh at l...  \n",
       "138688  I grew up reading these Sendak books, and watc...  \n",
       "138689  This is a fun way for children to learn their ...  \n",
       "138690  This is a great little book to read aloud- it ...  \n",
       "138691  This is a book of poetry about the months of t...  "
      ]
     },
     "execution_count": 24,
     "metadata": {},
     "output_type": "execute_result"
    }
   ],
   "source": [
    "data_final.head()"
   ]
  },
  {
   "cell_type": "code",
   "execution_count": 25,
   "metadata": {},
   "outputs": [],
   "source": [
    "from tqdm import tqdm"
   ]
  },
  {
   "cell_type": "code",
   "execution_count": 26,
   "metadata": {},
   "outputs": [
    {
     "name": "stderr",
     "output_type": "stream",
     "text": [
      "100%|████████████████████████████████████████████████████████████████████████| 364171/364171 [01:59<00:00, 3043.52it/s]\n"
     ]
    }
   ],
   "source": [
    "processed_review = []\n",
    "for i in tqdm(data_final[\"Text\"].values):\n",
    "    sentance = html_tag(i)\n",
    "    sentance = decontracted(sentance)\n",
    "    sentance = re.sub(\"\\S*\\d\\S*\", \"\", sentance)\n",
    "    sentance = re.sub('[^A-Za-z]+', ' ', sentance)\n",
    "    sentance = \" \".join(i.lower() for i in sentance.split() if i.lower() not in stopwords)\n",
    "    processed_review.append(sentance)"
   ]
  },
  {
   "cell_type": "code",
   "execution_count": 27,
   "metadata": {},
   "outputs": [],
   "source": [
    "data_final[\"Clean text\"] = processed_review"
   ]
  },
  {
   "cell_type": "code",
   "execution_count": 28,
   "metadata": {},
   "outputs": [
    {
     "data": {
      "text/plain": [
       "364171"
      ]
     },
     "execution_count": 28,
     "metadata": {},
     "output_type": "execute_result"
    }
   ],
   "source": [
    "len(processed_review)"
   ]
  },
  {
   "cell_type": "markdown",
   "metadata": {},
   "source": [
    "# 4. Featurization\n",
    "## 4.1 Naive Bayes on Bag of Words"
   ]
  },
  {
   "cell_type": "code",
   "execution_count": 29,
   "metadata": {},
   "outputs": [],
   "source": [
    "from sklearn.model_selection import cross_val_predict\n",
    "from sklearn.neighbors import KNeighborsClassifier\n",
    "from sklearn.model_selection import train_test_split\n",
    "from sklearn.metrics import roc_auc_score, roc_curve, confusion_matrix\n",
    "from sklearn.neighbors import KNeighborsClassifier\n",
    "from sklearn.model_selection import train_test_split"
   ]
  },
  {
   "cell_type": "code",
   "execution_count": 30,
   "metadata": {},
   "outputs": [],
   "source": [
    "x = data_final[\"Clean text\"][0:100000]\n",
    "y = data_final[\"Score\"][0:100000]"
   ]
  },
  {
   "cell_type": "code",
   "execution_count": 31,
   "metadata": {},
   "outputs": [
    {
     "name": "stdout",
     "output_type": "stream",
     "text": [
      "X CV Shape: (20000,)\n",
      "Y CV Shape: (20000,)\n",
      "X train shape: (64000,)\n",
      "Y train shape: (64000,)\n",
      "X test shape: (16000,)\n",
      "Y test shape: (16000,)\n"
     ]
    }
   ],
   "source": [
    "xx, x_cv, yy, y_cv = train_test_split(x, y, test_size=0.2, random_state=1)\n",
    "x_train, x_test, y_train, y_test = train_test_split(xx,yy, test_size=0.2, random_state=1)\n",
    "print(f\"X CV Shape: {x_cv.shape}\")\n",
    "print(f\"Y CV Shape: {y_cv.shape}\")\n",
    "print(f\"X train shape: {x_train.shape}\")\n",
    "print(f\"Y train shape: {y_train.shape}\")\n",
    "print(f\"X test shape: {x_test.shape}\")\n",
    "print(f\"Y test shape: {y_test.shape}\")"
   ]
  },
  {
   "cell_type": "code",
   "execution_count": 32,
   "metadata": {},
   "outputs": [
    {
     "name": "stdout",
     "output_type": "stream",
     "text": [
      "Shape of Train bow: (64000, 48234)\n",
      "Shape of CV bow: (20000, 48234)\n",
      "Shape of Test bow: (16000, 48234)\n"
     ]
    }
   ],
   "source": [
    "bow = CountVectorizer()\n",
    "bow.fit(x_train)\n",
    "train_bow = bow.transform(x_train)\n",
    "cv_bow = bow.transform(x_cv)\n",
    "test_bow = bow.transform(x_test)\n",
    "print(f\"Shape of Train bow: {train_bow.get_shape()}\")\n",
    "print(f\"Shape of CV bow: {cv_bow.get_shape()}\")\n",
    "print(f\"Shape of Test bow: {test_bow.get_shape()}\")"
   ]
  },
  {
   "cell_type": "code",
   "execution_count": 33,
   "metadata": {},
   "outputs": [
    {
     "name": "stderr",
     "output_type": "stream",
     "text": [
      "100%|████████████████████████████████████████████████████████████████████████████████████| 9/9 [00:00<00:00, 12.38it/s]\n"
     ]
    }
   ],
   "source": [
    "from sklearn.naive_bayes import MultinomialNB\n",
    "train_auc = []\n",
    "cv_auc = []\n",
    "alpha =[0.0001,0.001,0.01,0.1,1,10,100,1000,10000]\n",
    "for i in tqdm(alpha):\n",
    "    naive = MultinomialNB(alpha=i)\n",
    "    naive.fit(train_bow,y_train)\n",
    "    train_bow_prob = naive.predict_proba(train_bow)[:,1]\n",
    "    train_bow_auc = roc_auc_score(y_train, train_bow_prob)\n",
    "    cv_bow_prob = naive.predict_proba(cv_bow)[:,1]\n",
    "    cv_bow_auc = roc_auc_score(y_cv, cv_bow_prob)\n",
    "    train_auc.append(train_bow_auc)\n",
    "    cv_auc.append(cv_bow_auc)"
   ]
  },
  {
   "cell_type": "code",
   "execution_count": 34,
   "metadata": {},
   "outputs": [
    {
     "data": {
      "image/png": "[encoded data removed]",
      "text/plain": [
       "<Figure size 648x432 with 1 Axes>"
      ]
     },
     "metadata": {
      "needs_background": "light"
     },
     "output_type": "display_data"
    }
   ],
   "source": [
    "plt.figure(figsize=(9,6))\n",
    "sns.set_style(style=\"whitegrid\")\n",
    "sns.lineplot(np.log(alpha), train_auc, color=\"r\", label=\"Train AUC\", marker=\"o\")\n",
    "sns.lineplot(np.log(alpha), cv_auc, color=\"b\", label=\"CV AUC\",marker=\"o\")\n",
    "plt.xlabel(\"Alpha\",fontsize=13)\n",
    "plt.ylabel(\"AUC Score\",fontsize=13)\n",
    "plt.title(\"Accuracy Plot\", fontsize=14)\n",
    "plt.show()"
   ]
  },
  {
   "cell_type": "code",
   "execution_count": 35,
   "metadata": {},
   "outputs": [
    {
     "data": {
      "image/png": "[encoded data removed]",
      "text/plain": [
       "<Figure size 648x432 with 1 Axes>"
      ]
     },
     "metadata": {},
     "output_type": "display_data"
    },
    {
     "name": "stdout",
     "output_type": "stream",
     "text": [
      "AUC of train datas: 0.9440766572740742\n",
      "AUC of test datas: 0.9004838715293126\n"
     ]
    }
   ],
   "source": [
    "naive = MultinomialNB(alpha=1)\n",
    "naive.fit(train_bow,y_train)\n",
    "train_fpr, train_tpr, train_thr = roc_curve(y_train, naive.predict_proba(train_bow)[:,1])\n",
    "test_fpr, test_tpr, test_thr = roc_curve(y_test, naive.predict_proba(test_bow)[:,1])\n",
    "plt.figure(figsize=(9,6))\n",
    "plt.plot(train_fpr,train_tpr,\"r\",label=f\"Train ROC Curve, Area={round(auc(train_fpr,train_tpr),3)}\")\n",
    "plt.plot(test_fpr,test_tpr,\"b\",label=f\"Test ROC Curve, Area={round(auc(test_fpr,test_tpr),3)}\")\n",
    "plt.plot([0,1],[0,1],'k--')\n",
    "plt.title(\"ROC Curve\",fontsize=15)\n",
    "plt.legend(loc=\"best\")\n",
    "plt.xlabel(\"False Positive Rate (1-Specificity)\",fontsize=13)\n",
    "plt.ylabel(\"True Positive Rate\",fontsize=13)\n",
    "plt.show()\n",
    "print(f\"AUC of train datas: {auc(train_fpr,train_tpr)}\")\n",
    "print(f\"AUC of test datas: {auc(test_fpr,test_tpr)}\")"
   ]
  },
  {
   "cell_type": "code",
   "execution_count": 36,
   "metadata": {},
   "outputs": [
    {
     "data": {
      "image/png": "[encoded data removed]",
      "text/plain": [
       "<Figure size 1296x432 with 4 Axes>"
      ]
     },
     "metadata": {},
     "output_type": "display_data"
    }
   ],
   "source": [
    "plt.figure(figsize=(18,6))\n",
    "plt.subplot(121)\n",
    "cm = confusion_matrix(y_train, naive.predict(train_bow), labels=[1,0])\n",
    "cm_df = pd.DataFrame(data=cm,columns=[\"Predicted-1\",\"Predicted-0\"],index=[\"Actual-1\",\"Actual-0\"])\n",
    "sns.heatmap(cm_df,cmap=\"RdYlGn\",annot=True)\n",
    "plt.title(\"Heatmap of Confusion Matrix(Train)\",fontsize=15)\n",
    "\n",
    "plt.subplot(122)\n",
    "cm = confusion_matrix(y_test, naive.predict(test_bow), labels=[1,0])\n",
    "cm_df = pd.DataFrame(data=cm,columns=[\"Predicted-1\",\"Predicted-0\"],index=[\"Actual-1\",\"Actual-0\"])\n",
    "sns.heatmap(cm_df,cmap=\"RdYlGn\",annot=True)\n",
    "plt.title(\"Heatmap of Confusion Matrix (Test)\",fontsize=15)\n",
    "plt.show()"
   ]
  },
  {
   "cell_type": "markdown",
   "metadata": {},
   "source": [
    "### Top 10 features"
   ]
  },
  {
   "cell_type": "code",
   "execution_count": 37,
   "metadata": {},
   "outputs": [
    {
     "name": "stdout",
     "output_type": "stream",
     "text": [
      "Top Negative words\n",
      "not       -3.408177\n",
      "like      -4.574816\n",
      "product   -4.763513\n",
      "would     -4.834569\n",
      "taste     -4.906342\n",
      "one       -4.975222\n",
      "no        -5.228846\n",
      "good      -5.261896\n",
      "tea       -5.302587\n",
      "flavor    -5.366162\n",
      "Name: 0, dtype: float64\n",
      "======================================================================\n",
      "Top Positive words\n",
      "not       -3.785784\n",
      "like      -4.671561\n",
      "good      -4.736075\n",
      "great     -4.745282\n",
      "tea       -4.764978\n",
      "one       -4.943714\n",
      "taste     -5.065165\n",
      "love      -5.107641\n",
      "product   -5.135897\n",
      "flavor    -5.193525\n",
      "Name: 1, dtype: float64\n"
     ]
    }
   ],
   "source": [
    "df = pd.DataFrame(data=naive.feature_log_prob_, columns=bow.get_feature_names()).T\n",
    "print(\"Top Negative words\")\n",
    "print(df[0].sort_values(ascending=False)[0:10])\n",
    "print(\"=\"*70)\n",
    "print(\"Top Positive words\")\n",
    "print(df[1].sort_values(ascending=False)[0:10])"
   ]
  },
  {
   "cell_type": "markdown",
   "metadata": {},
   "source": [
    "# Naive Bayes on TFIDF"
   ]
  },
  {
   "cell_type": "code",
   "execution_count": 39,
   "metadata": {},
   "outputs": [
    {
     "name": "stdout",
     "output_type": "stream",
     "text": [
      "Shape of Train bow: (64000, 48234)\n",
      "Shape of CV bow: (20000, 48234)\n",
      "Shape of Test bow: (16000, 48234)\n"
     ]
    }
   ],
   "source": [
    "tfidf = TfidfVectorizer()\n",
    "tfidf.fit(x_train)\n",
    "train_tfidf = tfidf.transform(x_train)\n",
    "cv_tfidf = tfidf.transform(x_cv)\n",
    "test_tfidf = tfidf.transform(x_test)\n",
    "print(f\"Shape of Train bow: {train_tfidf.get_shape()}\")\n",
    "print(f\"Shape of CV bow: {cv_tfidf.get_shape()}\")\n",
    "print(f\"Shape of Test bow: {test_tfidf.get_shape()}\")"
   ]
  },
  {
   "cell_type": "code",
   "execution_count": 40,
   "metadata": {},
   "outputs": [
    {
     "name": "stderr",
     "output_type": "stream",
     "text": [
      "100%|████████████████████████████████████████████████████████████████████████████████████| 9/9 [00:00<00:00, 14.56it/s]\n"
     ]
    }
   ],
   "source": [
    "from sklearn.naive_bayes import MultinomialNB\n",
    "train_auc = []\n",
    "cv_auc = []\n",
    "alpha =[0.0001,0.001,0.01,0.1,1,10,100,1000,10000]\n",
    "for i in tqdm(alpha):\n",
    "    naive = MultinomialNB(alpha=i)\n",
    "    naive.fit(train_tfidf,y_train)\n",
    "    train_tfidf_auc = roc_auc_score(y_train, naive.predict_proba(train_tfidf)[:,1])\n",
    "    cv_tfidf_auc = roc_auc_score(y_cv, naive.predict_proba(cv_tfidf)[:,1])\n",
    "    train_auc.append(train_tfidf_auc)\n",
    "    cv_auc.append(cv_tfidf_auc)"
   ]
  },
  {
   "cell_type": "code",
   "execution_count": 41,
   "metadata": {},
   "outputs": [
    {
     "data": {
      "image/png": "[encoded data removed]",
      "text/plain": [
       "<Figure size 648x432 with 1 Axes>"
      ]
     },
     "metadata": {},
     "output_type": "display_data"
    }
   ],
   "source": [
    "plt.figure(figsize=(9,6))\n",
    "sns.set_style(style=\"whitegrid\")\n",
    "sns.lineplot(np.log(alpha), train_auc, color=\"r\", label=\"Train AUC\", marker=\"o\")\n",
    "sns.lineplot(np.log(alpha), cv_auc, color=\"b\", label=\"CV AUC\",marker=\"o\")\n",
    "plt.xlabel(\"Alpha\",fontsize=13)\n",
    "plt.ylabel(\"AUC Score\",fontsize=13)\n",
    "plt.title(\"Accuracy Plot\", fontsize=14)\n",
    "plt.show()"
   ]
  },
  {
   "cell_type": "code",
   "execution_count": 42,
   "metadata": {},
   "outputs": [
    {
     "name": "stdout",
     "output_type": "stream",
     "text": [
      "Highest AUC for CV is obtained at alpha=0.1\n"
     ]
    }
   ],
   "source": [
    "dictionary = dict(zip(cv_auc, alpha))\n",
    "print(f\"Highest AUC for CV is obtained at alpha={dictionary[max(cv_auc)]}\")"
   ]
  },
  {
   "cell_type": "code",
   "execution_count": 43,
   "metadata": {},
   "outputs": [
    {
     "data": {
      "image/png": "[encoded data removed]",
      "text/plain": [
       "<Figure size 648x432 with 1 Axes>"
      ]
     },
     "metadata": {},
     "output_type": "display_data"
    },
    {
     "name": "stdout",
     "output_type": "stream",
     "text": [
      "AUC of train datas: 0.9677894849021118\n",
      "AUC of test datas: 0.9160319798944512\n"
     ]
    }
   ],
   "source": [
    "naive = MultinomialNB(alpha=0.1)\n",
    "naive.fit(train_tfidf,y_train)\n",
    "train_fpr, train_tpr, train_thr = roc_curve(y_train, naive.predict_proba(train_tfidf)[:,1])\n",
    "test_fpr, test_tpr, test_thr = roc_curve(y_test, naive.predict_proba(test_tfidf)[:,1])\n",
    "plt.figure(figsize=(9,6))\n",
    "plt.plot(train_fpr,train_tpr,\"r\",label=f\"Train ROC Curve, Area={round(auc(train_fpr,train_tpr),3)}\")\n",
    "plt.plot(test_fpr,test_tpr,\"b\",label=f\"Test ROC Curve, Area={round(auc(test_fpr,test_tpr),3)}\")\n",
    "plt.plot([0,1],[0,1],'k--')\n",
    "plt.title(\"ROC Curve\",fontsize=15)\n",
    "plt.legend(loc=\"best\")\n",
    "plt.xlabel(\"False Positive Rate (1-Specificity)\",fontsize=13)\n",
    "plt.ylabel(\"True Positive Rate\",fontsize=13)\n",
    "plt.show()\n",
    "print(f\"AUC of train datas: {auc(train_fpr,train_tpr)}\")\n",
    "print(f\"AUC of test datas: {auc(test_fpr,test_tpr)}\")"
   ]
  },
  {
   "cell_type": "code",
   "execution_count": 44,
   "metadata": {},
   "outputs": [
    {
     "data": {
      "image/png": "[encoded data removed]",
      "text/plain": [
       "<Figure size 1296x432 with 4 Axes>"
      ]
     },
     "metadata": {},
     "output_type": "display_data"
    }
   ],
   "source": [
    "plt.figure(figsize=(18,6))\n",
    "plt.subplot(121)\n",
    "cm = confusion_matrix(y_train, naive.predict(train_tfidf), labels=[1,0])\n",
    "cm_df = pd.DataFrame(data=cm,columns=[\"Predicted-1\",\"Predicted-0\"],index=[\"Actual-1\",\"Actual-0\"])\n",
    "sns.heatmap(cm_df,cmap=\"RdYlGn\",annot=True)\n",
    "plt.title(\"Heatmap of Confusion Matrix(Train)\",fontsize=15)\n",
    "\n",
    "plt.subplot(122)\n",
    "cm = confusion_matrix(y_test, naive.predict(test_tfidf), labels=[1,0])\n",
    "cm_df = pd.DataFrame(data=cm,columns=[\"Predicted-1\",\"Predicted-0\"],index=[\"Actual-1\",\"Actual-0\"])\n",
    "sns.heatmap(cm_df,cmap=\"RdYlGn\",annot=True)\n",
    "plt.title(\"Heatmap of Confusion Matrix (Test)\",fontsize=15)\n",
    "plt.show()"
   ]
  },
  {
   "cell_type": "code",
   "execution_count": 45,
   "metadata": {},
   "outputs": [
    {
     "name": "stdout",
     "output_type": "stream",
     "text": [
      "Top Negative words\n",
      "not       -4.412158\n",
      "like      -5.232674\n",
      "product   -5.297081\n",
      "taste     -5.367940\n",
      "would     -5.371683\n",
      "one       -5.621464\n",
      "no        -5.752273\n",
      "tea       -5.753333\n",
      "flavor    -5.816700\n",
      "buy       -5.856780\n",
      "Name: 0, dtype: float64\n",
      "======================================================================\n",
      "Top Positive words\n",
      "not       -4.885115\n",
      "tea       -5.166374\n",
      "great     -5.168710\n",
      "good      -5.270562\n",
      "like      -5.388986\n",
      "love      -5.420869\n",
      "product   -5.537739\n",
      "taste     -5.591912\n",
      "one       -5.615811\n",
      "flavor    -5.656180\n",
      "Name: 1, dtype: float64\n"
     ]
    }
   ],
   "source": [
    "df = pd.DataFrame(data=naive.feature_log_prob_, columns=tfidf.get_feature_names()).T\n",
    "print(\"Top Negative words\")\n",
    "print(df[0].sort_values(ascending=False)[0:10])\n",
    "print(\"=\"*70)\n",
    "print(\"Top Positive words\")\n",
    "print(df[1].sort_values(ascending=False)[0:10])"
   ]
  },
  {
   "cell_type": "markdown",
   "metadata": {},
   "source": [
    "# Feature Engineering"
   ]
  },
  {
   "cell_type": "code",
   "execution_count": 46,
   "metadata": {},
   "outputs": [],
   "source": [
    "from scipy.sparse import hstack\n",
    "from scipy import sparse"
   ]
  },
  {
   "cell_type": "code",
   "execution_count": 47,
   "metadata": {},
   "outputs": [
    {
     "data": {
      "text/plain": [
       "(364171,)"
      ]
     },
     "execution_count": 47,
     "metadata": {},
     "output_type": "execute_result"
    }
   ],
   "source": [
    "data_final[\"Summary\"].shape"
   ]
  },
  {
   "cell_type": "code",
   "execution_count": 48,
   "metadata": {},
   "outputs": [
    {
     "name": "stderr",
     "output_type": "stream",
     "text": [
      "100%|███████████████████████████████████████████████████████████████████████| 364171/364171 [00:07<00:00, 49134.61it/s]\n"
     ]
    }
   ],
   "source": [
    "processed_summary = []\n",
    "for i in tqdm(data_final[\"Summary\"].values):\n",
    "    sentance = decontracted(i)\n",
    "    sentance = re.sub(\"\\S*\\d\\S*\", \"\", sentance)\n",
    "    sentance = re.sub('[^A-Za-z]+', ' ', sentance)\n",
    "    sentance = \" \".join(i.lower() for i in sentance.split() if i.lower() not in stopwords)\n",
    "    processed_summary.append(sentance)"
   ]
  },
  {
   "cell_type": "code",
   "execution_count": 49,
   "metadata": {},
   "outputs": [],
   "source": [
    "data_final[\"Clean_summary\"] = processed_summary"
   ]
  },
  {
   "cell_type": "code",
   "execution_count": 50,
   "metadata": {},
   "outputs": [],
   "source": [
    "x = data_final[[\"Clean text\",\"Clean_summary\"]][0:100000]\n",
    "y = data_final[\"Score\"][0:100000]\n",
    "review_len = []\n",
    "for i in x[\"Clean text\"]:\n",
    "    length = len(i.split())\n",
    "    review_len.append(length)\n",
    "    \n",
    "x[\"Review_length\"] = review_len"
   ]
  },
  {
   "cell_type": "code",
   "execution_count": 51,
   "metadata": {},
   "outputs": [
    {
     "data": {
      "text/html": [
       "<div>\n",
       "<style scoped>\n",
       "    .dataframe tbody tr th:only-of-type {\n",
       "        vertical-align: middle;\n",
       "    }\n",
       "\n",
       "    .dataframe tbody tr th {\n",
       "        vertical-align: top;\n",
       "    }\n",
       "\n",
       "    .dataframe thead th {\n",
       "        text-align: right;\n",
       "    }\n",
       "</style>\n",
       "<table border=\"1\" class=\"dataframe\">\n",
       "  <thead>\n",
       "    <tr style=\"text-align: right;\">\n",
       "      <th></th>\n",
       "      <th>Clean text</th>\n",
       "      <th>Clean_summary</th>\n",
       "      <th>Review_length</th>\n",
       "    </tr>\n",
       "  </thead>\n",
       "  <tbody>\n",
       "    <tr>\n",
       "      <th>138706</th>\n",
       "      <td>witty little book makes son laugh loud recite ...</td>\n",
       "      <td>every book educational</td>\n",
       "      <td>35</td>\n",
       "    </tr>\n",
       "    <tr>\n",
       "      <th>138688</th>\n",
       "      <td>grew reading sendak books watching really rosi...</td>\n",
       "      <td>love book miss hard cover version</td>\n",
       "      <td>27</td>\n",
       "    </tr>\n",
       "    <tr>\n",
       "      <th>138689</th>\n",
       "      <td>fun way children learn months year learn poems...</td>\n",
       "      <td>chicken soup rice months</td>\n",
       "      <td>15</td>\n",
       "    </tr>\n",
       "    <tr>\n",
       "      <th>138690</th>\n",
       "      <td>great little book read aloud nice rhythm well ...</td>\n",
       "      <td>good swingy rhythm reading aloud</td>\n",
       "      <td>53</td>\n",
       "    </tr>\n",
       "    <tr>\n",
       "      <th>138691</th>\n",
       "      <td>book poetry months year goes month cute little...</td>\n",
       "      <td>great way learn months</td>\n",
       "      <td>38</td>\n",
       "    </tr>\n",
       "  </tbody>\n",
       "</table>\n",
       "</div>"
      ],
      "text/plain": [
       "                                               Clean text  \\\n",
       "138706  witty little book makes son laugh loud recite ...   \n",
       "138688  grew reading sendak books watching really rosi...   \n",
       "138689  fun way children learn months year learn poems...   \n",
       "138690  great little book read aloud nice rhythm well ...   \n",
       "138691  book poetry months year goes month cute little...   \n",
       "\n",
       "                            Clean_summary  Review_length  \n",
       "138706             every book educational             35  \n",
       "138688  love book miss hard cover version             27  \n",
       "138689           chicken soup rice months             15  \n",
       "138690   good swingy rhythm reading aloud             53  \n",
       "138691             great way learn months             38  "
      ]
     },
     "execution_count": 51,
     "metadata": {},
     "output_type": "execute_result"
    }
   ],
   "source": [
    "x.head()"
   ]
  },
  {
   "cell_type": "code",
   "execution_count": 52,
   "metadata": {},
   "outputs": [
    {
     "name": "stdout",
     "output_type": "stream",
     "text": [
      "X CV Shape: (20000, 3)\n",
      "Y CV Shape: (20000,)\n",
      "X train shape: (64000, 3)\n",
      "Y train shape: (64000,)\n",
      "X test shape: (16000, 3)\n",
      "Y test shape: (16000,)\n"
     ]
    }
   ],
   "source": [
    "from sklearn.model_selection import train_test_split\n",
    "xx, x_cv, yy, y_cv = train_test_split(x, y, test_size=0.2, random_state=1)\n",
    "x_train, x_test, y_train, y_test = train_test_split(xx,yy, test_size=0.2, random_state=1)\n",
    "print(f\"X CV Shape: {x_cv.shape}\")\n",
    "print(f\"Y CV Shape: {y_cv.shape}\")\n",
    "print(f\"X train shape: {x_train.shape}\")\n",
    "print(f\"Y train shape: {y_train.shape}\")\n",
    "print(f\"X test shape: {x_test.shape}\")\n",
    "print(f\"Y test shape: {y_test.shape}\")"
   ]
  },
  {
   "cell_type": "code",
   "execution_count": 53,
   "metadata": {},
   "outputs": [
    {
     "name": "stdout",
     "output_type": "stream",
     "text": [
      "Shape of Train bow: (64000, 48234)\n",
      "Shape of CV bow: (20000, 48234)\n",
      "Shape of Test bow: (16000, 48234)\n"
     ]
    }
   ],
   "source": [
    "bow1 = CountVectorizer()\n",
    "bow1.fit(x_train[\"Clean text\"])\n",
    "train_bow_text = bow1.transform(x_train[\"Clean text\"])\n",
    "cv_bow_text = bow1.transform(x_cv[\"Clean text\"])\n",
    "test_bow_text = bow1.transform(x_test[\"Clean text\"])\n",
    "print(f\"Shape of Train bow: {train_bow_text.get_shape()}\")\n",
    "print(f\"Shape of CV bow: {cv_bow_text.get_shape()}\")\n",
    "print(f\"Shape of Test bow: {test_bow_text.get_shape()}\")"
   ]
  },
  {
   "cell_type": "code",
   "execution_count": 54,
   "metadata": {},
   "outputs": [
    {
     "name": "stdout",
     "output_type": "stream",
     "text": [
      "Shape of Train bow: (64000, 12872)\n",
      "Shape of CV bow: (20000, 12872)\n",
      "Shape of Test bow: (16000, 12872)\n"
     ]
    }
   ],
   "source": [
    "bow2 = CountVectorizer()\n",
    "bow2.fit(x_train[\"Clean_summary\"])\n",
    "train_bow_summary = bow2.transform(x_train[\"Clean_summary\"])\n",
    "cv_bow_summary = bow2.transform(x_cv[\"Clean_summary\"])\n",
    "test_bow_summary = bow2.transform(x_test[\"Clean_summary\"])\n",
    "print(f\"Shape of Train bow: {train_bow_summary.get_shape()}\")\n",
    "print(f\"Shape of CV bow: {cv_bow_summary.get_shape()}\")\n",
    "print(f\"Shape of Test bow: {test_bow_summary.get_shape()}\")"
   ]
  },
  {
   "cell_type": "code",
   "execution_count": 55,
   "metadata": {},
   "outputs": [
    {
     "name": "stdout",
     "output_type": "stream",
     "text": [
      "Shape of Train bow: (64000, 61106)\n",
      "Shape of CV bow: (20000, 61106)\n",
      "Shape of Test bow: (16000, 61106)\n"
     ]
    }
   ],
   "source": [
    "train_bow = hstack((train_bow_text,train_bow_summary))\n",
    "cv_bow = hstack((cv_bow_text,cv_bow_summary))\n",
    "test_bow = hstack((test_bow_text,test_bow_summary))\n",
    "print(f\"Shape of Train bow: {train_bow.get_shape()}\")\n",
    "print(f\"Shape of CV bow: {cv_bow.get_shape()}\")\n",
    "print(f\"Shape of Test bow: {test_bow.get_shape()}\")"
   ]
  },
  {
   "cell_type": "code",
   "execution_count": 56,
   "metadata": {},
   "outputs": [],
   "source": [
    "review_len_train = sparse.csc_matrix(x_train[\"Review_length\"]).T\n",
    "review_len_cv = sparse.csc_matrix(x_cv[\"Review_length\"]).T\n",
    "review_len_test = sparse.csc_matrix(x_test[\"Review_length\"]).T"
   ]
  },
  {
   "cell_type": "code",
   "execution_count": 57,
   "metadata": {},
   "outputs": [
    {
     "name": "stdout",
     "output_type": "stream",
     "text": [
      "Shape of Train bow: (64000, 61107)\n",
      "Shape of CV bow: (20000, 61107)\n",
      "Shape of Test bow: (16000, 61107)\n"
     ]
    }
   ],
   "source": [
    "train_bow = hstack((train_bow,review_len_train))\n",
    "cv_bow = hstack((cv_bow,review_len_cv))\n",
    "test_bow = hstack((test_bow,review_len_test))\n",
    "print(f\"Shape of Train bow: {train_bow.get_shape()}\")\n",
    "print(f\"Shape of CV bow: {cv_bow.get_shape()}\")\n",
    "print(f\"Shape of Test bow: {test_bow.get_shape()}\")"
   ]
  },
  {
   "cell_type": "code",
   "execution_count": 58,
   "metadata": {},
   "outputs": [
    {
     "name": "stderr",
     "output_type": "stream",
     "text": [
      "100%|████████████████████████████████████████████████████████████████████████████████████| 9/9 [00:01<00:00,  7.14it/s]\n"
     ]
    }
   ],
   "source": [
    "from sklearn.naive_bayes import MultinomialNB\n",
    "train_auc = []\n",
    "cv_auc = []\n",
    "alpha =[0.0001,0.001,0.01,0.1,1,10,100,1000,10000]\n",
    "for i in tqdm(alpha):\n",
    "    naive = MultinomialNB(alpha=i)\n",
    "    naive.fit(train_bow,y_train)\n",
    "    train_bow_auc = roc_auc_score(y_train, naive.predict_proba(train_bow)[:,1])\n",
    "    cv_bow_auc = roc_auc_score(y_cv, naive.predict_proba(cv_bow)[:,1])\n",
    "    train_auc.append(train_bow_auc)\n",
    "    cv_auc.append(cv_bow_auc)"
   ]
  },
  {
   "cell_type": "code",
   "execution_count": 59,
   "metadata": {},
   "outputs": [
    {
     "data": {
      "image/png": "[encoded data removed]",
      "text/plain": [
       "<Figure size 648x432 with 1 Axes>"
      ]
     },
     "metadata": {},
     "output_type": "display_data"
    }
   ],
   "source": [
    "plt.figure(figsize=(9,6))\n",
    "sns.set_style(style=\"whitegrid\")\n",
    "sns.lineplot(np.log(alpha), train_auc, color=\"r\", label=\"Train AUC\", marker=\"o\")\n",
    "sns.lineplot(np.log(alpha), cv_auc, color=\"b\", label=\"CV AUC\",marker=\"o\")\n",
    "plt.xlabel(\"Alpha\",fontsize=13)\n",
    "plt.ylabel(\"AUC Score\",fontsize=13)\n",
    "plt.title(\"Accuracy Plot\", fontsize=14)\n",
    "plt.show()"
   ]
  },
  {
   "cell_type": "code",
   "execution_count": 60,
   "metadata": {},
   "outputs": [
    {
     "name": "stdout",
     "output_type": "stream",
     "text": [
      "Highest AUC for CV is obtained at alpha=0.1\n"
     ]
    }
   ],
   "source": [
    "dictionary = dict(zip(cv_auc, alpha))\n",
    "print(f\"Highest AUC for CV is obtained at alpha={dictionary[max(cv_auc)]}\")"
   ]
  },
  {
   "cell_type": "code",
   "execution_count": 61,
   "metadata": {},
   "outputs": [
    {
     "data": {
      "image/png": "[encoded data removed]",
      "text/plain": [
       "<Figure size 648x432 with 1 Axes>"
      ]
     },
     "metadata": {},
     "output_type": "display_data"
    },
    {
     "name": "stdout",
     "output_type": "stream",
     "text": [
      "AUC of train datas: 0.9831910458924972\n",
      "AUC of test datas: 0.9364176999658914\n"
     ]
    }
   ],
   "source": [
    "naive = MultinomialNB(alpha=0.1)\n",
    "naive.fit(train_bow,y_train)\n",
    "train_fpr, train_tpr, train_thr = roc_curve(y_train, naive.predict_proba(train_bow)[:,1])\n",
    "test_fpr, test_tpr, test_thr = roc_curve(y_test, naive.predict_proba(test_bow)[:,1])\n",
    "plt.figure(figsize=(9,6))\n",
    "plt.plot(train_fpr,train_tpr,\"r\",label=f\"Train ROC Curve, Area={round(auc(train_fpr,train_tpr),3)}\")\n",
    "plt.plot(test_fpr,test_tpr,\"b\",label=f\"Test ROC Curve, Area={round(auc(test_fpr,test_tpr),3)}\")\n",
    "plt.plot([0,1],[0,1],'k--')\n",
    "plt.title(\"ROC Curve\",fontsize=15)\n",
    "plt.legend(loc=\"best\")\n",
    "plt.xlabel(\"False Positive Rate (1-Specificity)\",fontsize=13)\n",
    "plt.ylabel(\"True Positive Rate\",fontsize=13)\n",
    "plt.show()\n",
    "print(f\"AUC of train datas: {auc(train_fpr,train_tpr)}\")\n",
    "print(f\"AUC of test datas: {auc(test_fpr,test_tpr)}\")"
   ]
  },
  {
   "cell_type": "code",
   "execution_count": 62,
   "metadata": {},
   "outputs": [
    {
     "data": {
      "image/png": "[encoded data removed]",
      "text/plain": [
       "<Figure size 1296x432 with 4 Axes>"
      ]
     },
     "metadata": {},
     "output_type": "display_data"
    }
   ],
   "source": [
    "plt.figure(figsize=(18,6))\n",
    "plt.subplot(121)\n",
    "cm = confusion_matrix(y_train, naive.predict(train_bow), labels=[1,0])\n",
    "cm_df = pd.DataFrame(data=cm,columns=[\"Predicted-1\",\"Predicted-0\"],index=[\"Actual-1\",\"Actual-0\"])\n",
    "sns.heatmap(cm_df,cmap=\"RdYlGn\",annot=True)\n",
    "plt.title(\"Heatmap of Confusion Matrix(Train)\",fontsize=15)\n",
    "\n",
    "plt.subplot(122)\n",
    "cm = confusion_matrix(y_test, naive.predict(test_bow), labels=[1,0])\n",
    "cm_df = pd.DataFrame(data=cm,columns=[\"Predicted-1\",\"Predicted-0\"],index=[\"Actual-1\",\"Actual-0\"])\n",
    "sns.heatmap(cm_df,cmap=\"RdYlGn\",annot=True)\n",
    "plt.title(\"Heatmap of Confusion Matrix (Test)\",fontsize=15)\n",
    "plt.show()"
   ]
  },
  {
   "cell_type": "markdown",
   "metadata": {},
   "source": [
    "## Feature engineering TFIDF"
   ]
  },
  {
   "cell_type": "code",
   "execution_count": 63,
   "metadata": {},
   "outputs": [
    {
     "name": "stdout",
     "output_type": "stream",
     "text": [
      "Shape of Train tfidf: (64000, 48234)\n",
      "Shape of CV tfidf: (20000, 48234)\n",
      "Shape of Test tfidf: (16000, 48234)\n"
     ]
    }
   ],
   "source": [
    "tfidf1 = TfidfVectorizer()\n",
    "tfidf1.fit(x_train[\"Clean text\"])\n",
    "train_tfidf_text = tfidf1.transform(x_train[\"Clean text\"])\n",
    "cv_tfidf_text = tfidf1.transform(x_cv[\"Clean text\"])\n",
    "test_tfidf_text = tfidf1.transform(x_test[\"Clean text\"])\n",
    "print(f\"Shape of Train tfidf: {train_tfidf_text.get_shape()}\")\n",
    "print(f\"Shape of CV tfidf: {cv_tfidf_text.get_shape()}\")\n",
    "print(f\"Shape of Test tfidf: {test_tfidf_text.get_shape()}\")"
   ]
  },
  {
   "cell_type": "code",
   "execution_count": 64,
   "metadata": {},
   "outputs": [
    {
     "name": "stdout",
     "output_type": "stream",
     "text": [
      "Shape of Train tfidf: (64000, 12872)\n",
      "Shape of CV tfidf: (20000, 12872)\n",
      "Shape of Test tfidf: (16000, 12872)\n"
     ]
    }
   ],
   "source": [
    "tfidf2 = TfidfVectorizer()\n",
    "tfidf2.fit(x_train[\"Clean_summary\"])\n",
    "train_tfidf_summary = tfidf2.transform(x_train[\"Clean_summary\"])\n",
    "cv_tfidf_summary = tfidf2.transform(x_cv[\"Clean_summary\"])\n",
    "test_tfidf_summary = tfidf2.transform(x_test[\"Clean_summary\"])\n",
    "print(f\"Shape of Train tfidf: {train_tfidf_summary.get_shape()}\")\n",
    "print(f\"Shape of CV tfidf: {cv_tfidf_summary.get_shape()}\")\n",
    "print(f\"Shape of Test tfidf: {test_tfidf_summary.get_shape()}\")"
   ]
  },
  {
   "cell_type": "code",
   "execution_count": 65,
   "metadata": {},
   "outputs": [
    {
     "name": "stdout",
     "output_type": "stream",
     "text": [
      "Shape of Train bow: (64000, 61106)\n",
      "Shape of CV bow: (20000, 61106)\n",
      "Shape of Test bow: (16000, 61106)\n"
     ]
    }
   ],
   "source": [
    "train_tfidf = hstack((train_tfidf_text,train_tfidf_summary))\n",
    "cv_tfidf = hstack((cv_tfidf_text,cv_tfidf_summary))\n",
    "test_tfidf = hstack((test_tfidf_text,test_tfidf_summary))\n",
    "print(f\"Shape of Train bow: {train_tfidf.get_shape()}\")\n",
    "print(f\"Shape of CV bow: {cv_tfidf.get_shape()}\")\n",
    "print(f\"Shape of Test bow: {test_tfidf.get_shape()}\")"
   ]
  },
  {
   "cell_type": "code",
   "execution_count": 66,
   "metadata": {},
   "outputs": [],
   "source": [
    "review_len_train = sparse.csc_matrix(x_train[\"Review_length\"]).T\n",
    "review_len_cv = sparse.csc_matrix(x_cv[\"Review_length\"]).T\n",
    "review_len_test = sparse.csc_matrix(x_test[\"Review_length\"]).T"
   ]
  },
  {
   "cell_type": "code",
   "execution_count": 67,
   "metadata": {},
   "outputs": [
    {
     "name": "stdout",
     "output_type": "stream",
     "text": [
      "Shape of Train bow: (64000, 61107)\n",
      "Shape of CV bow: (20000, 61107)\n",
      "Shape of Test bow: (16000, 61107)\n"
     ]
    }
   ],
   "source": [
    "train_tfidf = hstack((train_tfidf,review_len_train))\n",
    "cv_tfidf = hstack((cv_tfidf,review_len_cv))\n",
    "test_tfidf = hstack((test_tfidf,review_len_test))\n",
    "print(f\"Shape of Train bow: {train_tfidf.get_shape()}\")\n",
    "print(f\"Shape of CV bow: {cv_tfidf.get_shape()}\")\n",
    "print(f\"Shape of Test bow: {test_tfidf.get_shape()}\")"
   ]
  },
  {
   "cell_type": "code",
   "execution_count": 68,
   "metadata": {},
   "outputs": [
    {
     "name": "stderr",
     "output_type": "stream",
     "text": [
      "100%|████████████████████████████████████████████████████████████████████████████████████| 9/9 [00:02<00:00,  4.08it/s]\n"
     ]
    }
   ],
   "source": [
    "from sklearn.naive_bayes import MultinomialNB\n",
    "train_auc = []\n",
    "cv_auc = []\n",
    "alpha =[0.0001,0.001,0.01,0.1,1,10,100,1000,10000]\n",
    "for i in tqdm(alpha):\n",
    "    naive = MultinomialNB(alpha=i)\n",
    "    naive.fit(train_tfidf,y_train)\n",
    "    train_tfidf_auc = roc_auc_score(y_train, naive.predict_proba(train_tfidf)[:,1])\n",
    "    cv_tfidf_auc = roc_auc_score(y_cv, naive.predict_proba(cv_tfidf)[:,1])\n",
    "    train_auc.append(train_tfidf_auc)\n",
    "    cv_auc.append(cv_tfidf_auc)"
   ]
  },
  {
   "cell_type": "code",
   "execution_count": 69,
   "metadata": {},
   "outputs": [
    {
     "data": {
      "image/png": "[encoded data removed]",
      "text/plain": [
       "<Figure size 648x432 with 1 Axes>"
      ]
     },
     "metadata": {},
     "output_type": "display_data"
    }
   ],
   "source": [
    "plt.figure(figsize=(9,6))\n",
    "sns.set_style(style=\"whitegrid\")\n",
    "sns.lineplot(np.log(alpha), train_auc, color=\"r\", label=\"Train AUC\", marker=\"o\")\n",
    "sns.lineplot(np.log(alpha), cv_auc, color=\"b\", label=\"CV AUC\",marker=\"o\")\n",
    "plt.xlabel(\"Alpha\",fontsize=13)\n",
    "plt.ylabel(\"AUC Score\",fontsize=13)\n",
    "plt.title(\"Accuracy Plot\", fontsize=14)\n",
    "plt.show()"
   ]
  },
  {
   "cell_type": "code",
   "execution_count": 70,
   "metadata": {},
   "outputs": [
    {
     "name": "stdout",
     "output_type": "stream",
     "text": [
      "Highest AUC for CV is obtained at alpha=0.1\n"
     ]
    }
   ],
   "source": [
    "dictionary = dict(zip(cv_auc, alpha))\n",
    "print(f\"Highest AUC for CV is obtained at alpha={dictionary[max(cv_auc)]}\")"
   ]
  },
  {
   "cell_type": "code",
   "execution_count": 71,
   "metadata": {},
   "outputs": [
    {
     "data": {
      "image/png": "[encoded data removed]",
      "text/plain": [
       "<Figure size 648x432 with 1 Axes>"
      ]
     },
     "metadata": {},
     "output_type": "display_data"
    },
    {
     "name": "stdout",
     "output_type": "stream",
     "text": [
      "AUC of train datas: 0.9890406686513626\n",
      "AUC of test datas: 0.9455579790943973\n"
     ]
    }
   ],
   "source": [
    "naive = MultinomialNB(alpha=0.1)\n",
    "naive.fit(train_bow,y_train)\n",
    "train_fpr, train_tpr, train_thr = roc_curve(y_train, naive.predict_proba(train_tfidf)[:,1])\n",
    "test_fpr, test_tpr, test_thr = roc_curve(y_test, naive.predict_proba(test_tfidf)[:,1])\n",
    "plt.figure(figsize=(9,6))\n",
    "plt.plot(train_fpr,train_tpr,\"r\",label=f\"Train ROC Curve, Area={round(auc(train_fpr,train_tpr),3)}\")\n",
    "plt.plot(test_fpr,test_tpr,\"b\",label=f\"Test ROC Curve, Area={round(auc(test_fpr,test_tpr),3)}\")\n",
    "plt.plot([0,1],[0,1],'k--')\n",
    "plt.title(\"ROC Curve\",fontsize=15)\n",
    "plt.legend(loc=\"best\")\n",
    "plt.xlabel(\"False Positive Rate (1-Specificity)\",fontsize=13)\n",
    "plt.ylabel(\"True Positive Rate\",fontsize=13)\n",
    "plt.show()\n",
    "print(f\"AUC of train datas: {auc(train_fpr,train_tpr)}\")\n",
    "print(f\"AUC of test datas: {auc(test_fpr,test_tpr)}\")"
   ]
  },
  {
   "cell_type": "code",
   "execution_count": 72,
   "metadata": {},
   "outputs": [
    {
     "data": {
      "image/png": "[encoded data removed]",
      "text/plain": [
       "<Figure size 1296x432 with 4 Axes>"
      ]
     },
     "metadata": {},
     "output_type": "display_data"
    }
   ],
   "source": [
    "plt.figure(figsize=(18,6))\n",
    "plt.subplot(121)\n",
    "cm = confusion_matrix(y_train, naive.predict(train_tfidf), labels=[1,0])\n",
    "cm_df = pd.DataFrame(data=cm,columns=[\"Predicted-1\",\"Predicted-0\"],index=[\"Actual-1\",\"Actual-0\"])\n",
    "sns.heatmap(cm_df,cmap=\"RdYlGn\",annot=True)\n",
    "plt.title(\"Heatmap of Confusion Matrix(Train)\",fontsize=15)\n",
    "\n",
    "plt.subplot(122)\n",
    "cm = confusion_matrix(y_test, naive.predict(test_tfidf), labels=[1,0])\n",
    "cm_df = pd.DataFrame(data=cm,columns=[\"Predicted-1\",\"Predicted-0\"],index=[\"Actual-1\",\"Actual-0\"])\n",
    "sns.heatmap(cm_df,cmap=\"RdYlGn\",annot=True)\n",
    "plt.title(\"Heatmap of Confusion Matrix (Test)\",fontsize=15)\n",
    "plt.show()"
   ]
  },
  {
   "cell_type": "code",
   "execution_count": null,
   "metadata": {},
   "outputs": [],
   "source": []
  }
 ],
 "metadata": {
  "kernelspec": {
   "display_name": "Python 3",
   "language": "python",
   "name": "python3"
  },
  "language_info": {
   "codemirror_mode": {
    "name": "ipython",
    "version": 3
   },
   "file_extension": ".py",
   "mimetype": "text/x-python",
   "name": "python",
   "nbconvert_exporter": "python",
   "pygments_lexer": "ipython3",
   "version": "3.7.3"
  }
 },
 "nbformat": 4,
 "nbformat_minor": 2
}
