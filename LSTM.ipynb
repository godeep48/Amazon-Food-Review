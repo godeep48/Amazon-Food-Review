{
  "nbformat": 4,
  "nbformat_minor": 0,
  "metadata": {
    "colab": {
      "name": "Sequential.ipynb",
      "provenance": []
    },
    "kernelspec": {
      "name": "python3",
      "display_name": "Python 3"
    },
    "accelerator": "GPU"
  },
  "cells": [
    {
      "cell_type": "code",
      "metadata": {
        "id": "a5T4BLd4gQWl",
        "outputId": "4780ab12-450d-4679-9a3f-6b14a7dc15fb",
        "colab": {
          "base_uri": "https://localhost:8080/",
          "height": 34
        }
      },
      "source": [
        "##Mount drive with Colab\n",
        "from google.colab import drive\n",
        "drive.mount('/content/gdrive')"
      ],
      "execution_count": null,
      "outputs": [
        {
          "output_type": "stream",
          "text": [
            "Mounted at /content/gdrive\n"
          ],
          "name": "stdout"
        }
      ]
    },
    {
      "cell_type": "code",
      "metadata": {
        "id": "gJxyQFCQgdJw"
      },
      "source": [
        "## Copying the database file to the /content directory\n",
        "!cp gdrive/My\\ Drive/ML\\ Revision/Amazon\\ Fine\\ Food\\ Review/processed_df.csv /content"
      ],
      "execution_count": null,
      "outputs": []
    },
    {
      "cell_type": "code",
      "metadata": {
        "id": "1YHYNwY0gvo_"
      },
      "source": [
        "import bs4\n",
        "import torch.nn as nn\n",
        "import torch\n",
        "import torch.nn.functional as F\n",
        "import pandas as pd\n",
        "import numpy as np\n",
        "import matplotlib.pyplot as plt\n",
        "import os,re,json\n",
        "import torch.nn as nn\n",
        "import shutil\n",
        "from torch.utils.data import TensorDataset,DataLoader\n",
        "import gc,time\n",
        "import warnings\n",
        "warnings.filterwarnings(\"ignore\")\n",
        "from sklearn.metrics import roc_auc_score,accuracy_score\n",
        "from collections import Counter\n",
        "from sklearn.model_selection import train_test_split\n",
        "import seaborn as sns\n",
        "\n",
        "from bs4 import BeautifulSoup"
      ],
      "execution_count": null,
      "outputs": []
    },
    {
      "cell_type": "code",
      "metadata": {
        "id": "Xesla_m5g15g",
        "outputId": "0d931a18-3f6a-4f97-82d1-7681a7a98ade",
        "colab": {
          "base_uri": "https://localhost:8080/",
          "height": 204
        }
      },
      "source": [
        "df = pd.read_csv('processed_df.csv')\n",
        "#dropping null values\n",
        "df = df.dropna(axis=0)\n",
        "df.head()"
      ],
      "execution_count": null,
      "outputs": [
        {
          "output_type": "execute_result",
          "data": {
            "text/html": [
              "<div>\n",
              "<style scoped>\n",
              "    .dataframe tbody tr th:only-of-type {\n",
              "        vertical-align: middle;\n",
              "    }\n",
              "\n",
              "    .dataframe tbody tr th {\n",
              "        vertical-align: top;\n",
              "    }\n",
              "\n",
              "    .dataframe thead th {\n",
              "        text-align: right;\n",
              "    }\n",
              "</style>\n",
              "<table border=\"1\" class=\"dataframe\">\n",
              "  <thead>\n",
              "    <tr style=\"text-align: right;\">\n",
              "      <th></th>\n",
              "      <th>Time</th>\n",
              "      <th>CleanText</th>\n",
              "      <th>Score</th>\n",
              "    </tr>\n",
              "  </thead>\n",
              "  <tbody>\n",
              "    <tr>\n",
              "      <th>0</th>\n",
              "      <td>1256688000</td>\n",
              "      <td>book purchased birthday gift year old boy sque...</td>\n",
              "      <td>1</td>\n",
              "    </tr>\n",
              "    <tr>\n",
              "      <th>1</th>\n",
              "      <td>1025481600</td>\n",
              "      <td>daughter loves really rosie books introduced r...</td>\n",
              "      <td>1</td>\n",
              "    </tr>\n",
              "    <tr>\n",
              "      <th>2</th>\n",
              "      <td>1129507200</td>\n",
              "      <td>one best children books ever written mini vers...</td>\n",
              "      <td>0</td>\n",
              "    </tr>\n",
              "    <tr>\n",
              "      <th>3</th>\n",
              "      <td>1348358400</td>\n",
              "      <td>title chicken soup riceauthor maurice sendakre...</td>\n",
              "      <td>1</td>\n",
              "    </tr>\n",
              "    <tr>\n",
              "      <th>4</th>\n",
              "      <td>1191456000</td>\n",
              "      <td>fun way children learn months year learn poems...</td>\n",
              "      <td>1</td>\n",
              "    </tr>\n",
              "  </tbody>\n",
              "</table>\n",
              "</div>"
            ],
            "text/plain": [
              "         Time                                          CleanText  Score\n",
              "0  1256688000  book purchased birthday gift year old boy sque...      1\n",
              "1  1025481600  daughter loves really rosie books introduced r...      1\n",
              "2  1129507200  one best children books ever written mini vers...      0\n",
              "3  1348358400  title chicken soup riceauthor maurice sendakre...      1\n",
              "4  1191456000  fun way children learn months year learn poems...      1"
            ]
          },
          "metadata": {
            "tags": []
          },
          "execution_count": 4
        }
      ]
    },
    {
      "cell_type": "code",
      "metadata": {
        "id": "1qVwLOpEg70L",
        "outputId": "0a9a0311-5eb9-4745-b02d-5ddec3f383db",
        "colab": {
          "base_uri": "https://localhost:8080/",
          "height": 34
        }
      },
      "source": [
        "df.shape"
      ],
      "execution_count": null,
      "outputs": [
        {
          "output_type": "execute_result",
          "data": {
            "text/plain": [
              "(347326, 3)"
            ]
          },
          "metadata": {
            "tags": []
          },
          "execution_count": 5
        }
      ]
    },
    {
      "cell_type": "code",
      "metadata": {
        "id": "hOMMXFgbg8X9",
        "outputId": "43bc7c7b-0f0a-4e6f-d063-941521be56f5",
        "colab": {
          "base_uri": "https://localhost:8080/",
          "height": 34
        }
      },
      "source": [
        "\n",
        "df['Time'] = pd.to_datetime(df['Time'],unit='s')\n",
        "df = df.sort_values('Time')\n",
        "df = df.reset_index(drop=True)\n",
        "df.shape"
      ],
      "execution_count": null,
      "outputs": [
        {
          "output_type": "execute_result",
          "data": {
            "text/plain": [
              "(347326, 3)"
            ]
          },
          "metadata": {
            "tags": []
          },
          "execution_count": 6
        }
      ]
    },
    {
      "cell_type": "code",
      "metadata": {
        "id": "SJrtZvshhF67",
        "outputId": "d18a4d76-fc96-460a-e223-a9ce144c3f9a",
        "colab": {
          "base_uri": "https://localhost:8080/",
          "height": 142
        }
      },
      "source": [
        "df.head(3)"
      ],
      "execution_count": null,
      "outputs": [
        {
          "output_type": "execute_result",
          "data": {
            "text/html": [
              "<div>\n",
              "<style scoped>\n",
              "    .dataframe tbody tr th:only-of-type {\n",
              "        vertical-align: middle;\n",
              "    }\n",
              "\n",
              "    .dataframe tbody tr th {\n",
              "        vertical-align: top;\n",
              "    }\n",
              "\n",
              "    .dataframe thead th {\n",
              "        text-align: right;\n",
              "    }\n",
              "</style>\n",
              "<table border=\"1\" class=\"dataframe\">\n",
              "  <thead>\n",
              "    <tr style=\"text-align: right;\">\n",
              "      <th></th>\n",
              "      <th>Time</th>\n",
              "      <th>CleanText</th>\n",
              "      <th>Score</th>\n",
              "    </tr>\n",
              "  </thead>\n",
              "  <tbody>\n",
              "    <tr>\n",
              "      <th>0</th>\n",
              "      <td>1999-10-08</td>\n",
              "      <td>witty little book makes son laugh loud recite ...</td>\n",
              "      <td>1</td>\n",
              "    </tr>\n",
              "    <tr>\n",
              "      <th>1</th>\n",
              "      <td>1999-10-25</td>\n",
              "      <td>remember seeing show aired television years ag...</td>\n",
              "      <td>1</td>\n",
              "    </tr>\n",
              "    <tr>\n",
              "      <th>2</th>\n",
              "      <td>1999-12-02</td>\n",
              "      <td>beetlejuice well written movie everything exce...</td>\n",
              "      <td>1</td>\n",
              "    </tr>\n",
              "  </tbody>\n",
              "</table>\n",
              "</div>"
            ],
            "text/plain": [
              "        Time                                          CleanText  Score\n",
              "0 1999-10-08  witty little book makes son laugh loud recite ...      1\n",
              "1 1999-10-25  remember seeing show aired television years ag...      1\n",
              "2 1999-12-02  beetlejuice well written movie everything exce...      1"
            ]
          },
          "metadata": {
            "tags": []
          },
          "execution_count": 7
        }
      ]
    },
    {
      "cell_type": "code",
      "metadata": {
        "id": "BomoseYChIWV",
        "outputId": "712efbce-662e-4c7a-bb7e-edcd0e0c7169",
        "colab": {
          "base_uri": "https://localhost:8080/",
          "height": 85
        }
      },
      "source": [
        "X = df['CleanText']\n",
        "y = df['Score']\n",
        "X_train,X_test,y_train,y_test = train_test_split(X,y,test_size=0.3,stratify=y,random_state=100)\n",
        "# X_tr,X_cv,y_tr,y_cv = train_test_split(X_train,y_train,test_size=0.3,stratify=y_train,random_state=100)\n",
        "print(f'shape of X_train is {X_train.shape}')\n",
        "print(f'shape of X_test is {X_test.shape}')\n",
        "print(f'shape of y_train is {y_train.shape}')\n",
        "print(f'shape of y_test is {y_test.shape}')"
      ],
      "execution_count": null,
      "outputs": [
        {
          "output_type": "stream",
          "text": [
            "shape of X_train is (243128,)\n",
            "shape of X_test is (104198,)\n",
            "shape of y_train is (243128,)\n",
            "shape of y_test is (104198,)\n"
          ],
          "name": "stdout"
        }
      ]
    },
    {
      "cell_type": "code",
      "metadata": {
        "id": "l8yCMWJLhOfz"
      },
      "source": [
        "#helper functions\n",
        "def tockenize(X_train,X_test):\n",
        "  \"\"\"\n",
        "  bow encoding\n",
        "  \"\"\"\n",
        "  word_list = []\n",
        "  for sent in X_train:\n",
        "    for word in sent.split():\n",
        "      word_list.append(word)\n",
        "\n",
        "  corpus = Counter(word_list)\n",
        "  # sorting on the basis of most common words\n",
        "  corpus_ = sorted(corpus,key=corpus.get,reverse=True)\n",
        "  # creating a dict\n",
        "  onehot_dict = {w:i+1 for i,w in enumerate(corpus_)}\n",
        "\n",
        "  train_vec = []\n",
        "  test_vec = []\n",
        "  for sent in X_train:\n",
        "      train_vec.append([onehot_dict[word] for word in sent.split() if word in onehot_dict.keys()])\n",
        "\n",
        "  for sent in X_test:\n",
        "      test_vec.append([onehot_dict[word] for word in sent.split() if word in onehot_dict.keys()])\n",
        "\n",
        "  return train_vec,test_vec,onehot_dict\n",
        "\n",
        "def padding_(sentences, seq_len):\n",
        "    \"\"\"\n",
        "    do padding on left handside\n",
        "    ie, if seq_len = 5 and input is [1,2,3] out will be [0,0,1,2,3]\n",
        "\n",
        "    \"\"\"\n",
        "    features = np.zeros((len(sentences), seq_len),dtype=int)\n",
        "    for ii, review in enumerate(sentences):\n",
        "        if len(review) != 0:\n",
        "            features[ii, -len(review):] = np.array(review)[:seq_len]\n",
        "    return features"
      ],
      "execution_count": null,
      "outputs": []
    },
    {
      "cell_type": "code",
      "metadata": {
        "id": "2KOjql-D6Aw_",
        "outputId": "69f3205f-ae48-4ba5-caad-ba7ab37f1e7e",
        "colab": {
          "base_uri": "https://localhost:8080/",
          "height": 34
        }
      },
      "source": [
        "# encoding\n",
        "X_train = X_train.values\n",
        "X_test = X_test.values\n",
        "train_seq,test_seq,corpus_dict = tockenize(X_train,X_test)\n",
        "corpus = [i for i in corpus_dict.keys()]\n",
        "print(f'Total number of words {len(corpus)}')"
      ],
      "execution_count": null,
      "outputs": [
        {
          "output_type": "stream",
          "text": [
            "Total number of words 94853\n"
          ],
          "name": "stdout"
        }
      ]
    },
    {
      "cell_type": "code",
      "metadata": {
        "id": "VPVZBviM6aO0"
      },
      "source": [
        "# saving dict for future use\n",
        "import json\n",
        "# convert into JSON:\n",
        "with open(\"corpus_dict\", \"w\") as fp:\n",
        "    json.dump(corpus_dict,fp)"
      ],
      "execution_count": null,
      "outputs": []
    },
    {
      "cell_type": "code",
      "metadata": {
        "id": "P3d00M8T6jaO",
        "outputId": "ecd79864-e6f3-490d-f6d5-196c54dce38f",
        "colab": {
          "base_uri": "https://localhost:8080/",
          "height": 51
        }
      },
      "source": [
        "#example\n",
        "print(X_train[162])\n",
        "print(train_seq[162])"
      ],
      "execution_count": null,
      "outputs": [
        {
          "output_type": "stream",
          "text": [
            "not huge tea drinker tried\n",
            "[1, 458, 11, 887, 28]\n"
          ],
          "name": "stdout"
        }
      ]
    },
    {
      "cell_type": "code",
      "metadata": {
        "id": "XzvRdz4H61Kh"
      },
      "source": [
        "rev_len = [len(i) for i in train_seq]"
      ],
      "execution_count": null,
      "outputs": []
    },
    {
      "cell_type": "code",
      "metadata": {
        "id": "6wxE9Ooh7mVN",
        "outputId": "d2fdbb2a-1366-4b3c-8194-b382724927a8",
        "colab": {
          "base_uri": "https://localhost:8080/",
          "height": 265
        }
      },
      "source": [
        "pd.Series(rev_len).hist()\n",
        "plt.show()"
      ],
      "execution_count": null,
      "outputs": [
        {
          "output_type": "display_data",
          "data": {
            "image/png": "[encoded data removed]",
            "text/plain": [
              "<Figure size 432x288 with 1 Axes>"
            ]
          },
          "metadata": {
            "tags": [],
            "needs_background": "light"
          }
        }
      ]
    },
    {
      "cell_type": "code",
      "metadata": {
        "id": "scQ7zMc67zKH",
        "outputId": "f513ebee-bf95-4034-de5a-d9539b2990af",
        "colab": {
          "base_uri": "https://localhost:8080/",
          "height": 170
        }
      },
      "source": [
        "pd.Series(rev_len).describe()"
      ],
      "execution_count": null,
      "outputs": [
        {
          "output_type": "execute_result",
          "data": {
            "text/plain": [
              "count    243128.000000\n",
              "mean         39.316903\n",
              "std          38.123968\n",
              "min           1.000000\n",
              "25%          17.000000\n",
              "50%          28.000000\n",
              "75%          48.000000\n",
              "max        1217.000000\n",
              "dtype: float64"
            ]
          },
          "metadata": {
            "tags": []
          },
          "execution_count": 15
        }
      ]
    },
    {
      "cell_type": "code",
      "metadata": {
        "id": "AeSwHyEX710E",
        "outputId": "9be3598e-97b5-4dcc-8a78-84b5e9b6d809",
        "colab": {
          "base_uri": "https://localhost:8080/",
          "height": 282
        }
      },
      "source": [
        "sns.distplot(rev_len)"
      ],
      "execution_count": null,
      "outputs": [
        {
          "output_type": "execute_result",
          "data": {
            "text/plain": [
              "<matplotlib.axes._subplots.AxesSubplot at 0x7fb773d81898>"
            ]
          },
          "metadata": {
            "tags": []
          },
          "execution_count": 16
        },
        {
          "output_type": "display_data",
          "data": {
            "image/png": "[encoded data removed]",
            "text/plain": [
              "<Figure size 432x288 with 1 Axes>"
            ]
          },
          "metadata": {
            "tags": [],
            "needs_background": "light"
          }
        }
      ]
    },
    {
      "cell_type": "code",
      "metadata": {
        "id": "LL55R5HN76T1",
        "outputId": "66fccc3d-1589-4573-de42-6c20775980fd",
        "colab": {
          "base_uri": "https://localhost:8080/",
          "height": 666
        }
      },
      "source": [
        "rev_len = [len(i) for i in test_seq]\n",
        "pd.Series(rev_len).hist()\n",
        "plt.show()\n",
        "print(pd.Series(rev_len).describe())\n",
        "sns.distplot(rev_len)\n",
        "plt.show()"
      ],
      "execution_count": null,
      "outputs": [
        {
          "output_type": "display_data",
          "data": {
            "image/png": "[encoded data removed]",
            "text/plain": [
              "<Figure size 432x288 with 1 Axes>"
            ]
          },
          "metadata": {
            "tags": [],
            "needs_background": "light"
          }
        },
        {
          "output_type": "stream",
          "text": [
            "count    104198.000000\n",
            "mean         38.950824\n",
            "std          37.898811\n",
            "min           1.000000\n",
            "25%          17.000000\n",
            "50%          28.000000\n",
            "75%          48.000000\n",
            "max        1557.000000\n",
            "dtype: float64\n"
          ],
          "name": "stdout"
        },
        {
          "output_type": "display_data",
          "data": {
            "image/png": "[encoded data removed]",
            "text/plain": [
              "<Figure size 432x288 with 1 Axes>"
            ]
          },
          "metadata": {
            "tags": [],
            "needs_background": "light"
          }
        }
      ]
    },
    {
      "cell_type": "code",
      "metadata": {
        "id": "jEmlZHws8rZh"
      },
      "source": [
        "# padding (we will pad to a length of 224)\n",
        "seq_train_pad = padding_(np.array(train_seq),225)\n",
        "seq_test_pad = padding_(np.array(test_seq),225)"
      ],
      "execution_count": null,
      "outputs": []
    },
    {
      "cell_type": "code",
      "metadata": {
        "id": "E1AfZ1tF9Ns3",
        "outputId": "f6cb002a-2f1c-49e9-b7d5-84ea3a47f19d",
        "colab": {
          "base_uri": "https://localhost:8080/",
          "height": 442
        }
      },
      "source": [
        "seq_train_pad[163]"
      ],
      "execution_count": null,
      "outputs": [
        {
          "output_type": "execute_result",
          "data": {
            "text/plain": [
              "array([    0,     0,     0,     0,     0,     0,     0,     0,     0,\n",
              "           0,     0,     0,     0,     0,     0,     0,     0,     0,\n",
              "           0,     0,     0,     0,     0,     0,     0,     0,     0,\n",
              "           0,     0,     0,     0,     0,     0,     0,     0,     0,\n",
              "           0,     0,     0,     0,     0,     0,     0,     0,     0,\n",
              "           0,     0,     0,     0,     0,     0,     0,     0,     0,\n",
              "           0,     0,     0,     0,     0,     0,     0,     0,     0,\n",
              "           0,     0,     0,     0,     0,     0,     0,     0,     0,\n",
              "           0,     0,     0,     0,     0,     0,     0,     0,     0,\n",
              "           0,     0,     0,     0,     0,     0,     0,     0,     0,\n",
              "           0,     0,     0,     0,     0,     0,     0,     0,     0,\n",
              "           0,     0,     0,     0,     0,     0,     0,     0,     0,\n",
              "           0,     0,     0,     0,     0,     0,     0,     0,     0,\n",
              "           0,     0,     0,     0,     0,     0,     0,     0,     0,\n",
              "           0,     0,     0,     0,     0,     0,     0,     0,     0,\n",
              "           0,     0,     0,     0,     0,     0,     0,   425,  3199,\n",
              "          85,  1267,   229,     2,   468,  4051,     5,   522,   258,\n",
              "          52,  6883,   229,   517,  1294,    76,  1728,   453,   452,\n",
              "         916,   433,    15,    28,    94,   200,    83,     8,    34,\n",
              "         214,   842,  4506,    30,   189,    15,   596,     1,   551,\n",
              "          28,  3347,   895, 31594,   438,     9,   289,   372, 10427,\n",
              "           2,   167,    45,   341,    21,  5052,     8,  5146,    13,\n",
              "         118,  3551, 21012,   223,    24,   240,     1,  1038,     1,\n",
              "        2157,     3,   748,    68,   124,   649,   533,     2,   146,\n",
              "         175,   209,  3911,    89,   598,   109,   229,    12,  2004])"
            ]
          },
          "metadata": {
            "tags": []
          },
          "execution_count": 19
        }
      ]
    },
    {
      "cell_type": "markdown",
      "metadata": {
        "id": "-R3vwncr9fau"
      },
      "source": [
        "# Using Pretrained weight embeddings"
      ]
    },
    {
      "cell_type": "markdown",
      "metadata": {
        "id": "nUE79W2a-1vy"
      },
      "source": [
        "## Download Glove vector file"
      ]
    },
    {
      "cell_type": "code",
      "metadata": {
        "id": "htLKTFGU-5ek"
      },
      "source": [
        "#!wget http://nlp.stanford.edu/data/wordvecs/glove.42B.300d.zip"
      ],
      "execution_count": null,
      "outputs": []
    },
    {
      "cell_type": "code",
      "metadata": {
        "id": "9_gGT57S_SVi"
      },
      "source": [
        "# Save a copy of Glove Vector to drive.\n",
        "#!cp glove.42B.300d.zip gdrive/My\\ Drive/ML\\ Revision/Amazon\\ Fine\\ Food\\ Review/"
      ],
      "execution_count": null,
      "outputs": []
    },
    {
      "cell_type": "code",
      "metadata": {
        "id": "fg71ggbK_jHF"
      },
      "source": [
        "#Unzip the file\n",
        "#!unzip glove.42B.300d.zip"
      ],
      "execution_count": null,
      "outputs": []
    },
    {
      "cell_type": "code",
      "metadata": {
        "id": "yIwtrLXIE2tL"
      },
      "source": [
        "#ls"
      ],
      "execution_count": null,
      "outputs": []
    },
    {
      "cell_type": "code",
      "metadata": {
        "id": "-gN9utIk9QzI"
      },
      "source": [
        "##code from https://stackoverflow.com/questions/37793118/load-pretrained-glove-vectors-in-python\n",
        "#def loadGloveModel(File):\n",
        "#    print(\"Loading Glove Model\")\n",
        "#    f = open(File,'r')\n",
        "#    gloveModel = {}\n",
        "#    for line in f:\n",
        "#        splitLines = line.split()\n",
        "#        word = splitLines[0]\n",
        "#        wordEmbedding = np.array([float(value) for value in splitLines[1:]])\n",
        "#        gloveModel[word] = wordEmbedding\n",
        "#    print(len(gloveModel),\" words loaded!\")\n",
        "#    return gloveModel\n",
        "#\n",
        "#glove_dict =  loadGloveModel(\"glove.42B.300d.txt\")\n",
        "#gc.collect()"
      ],
      "execution_count": null,
      "outputs": []
    },
    {
      "cell_type": "code",
      "metadata": {
        "id": "TwKul8OLE50n"
      },
      "source": [
        "#embedding_matrix = np.zeros((len(corpus) + 1, 300))\n",
        "#for i,word in enumerate(corpus):\n",
        "#  if word in glove_dict.keys():\n",
        "#    embedding_vec = glove_dict[word]\n",
        "#    embedding_matrix[i] = embedding_vec\n",
        "#\n",
        "# \n",
        "#print(embedding_matrix.shape)  \n",
        "#\n",
        "#np.save('embedding_matrix_model.npy',embedding_matrix)"
      ],
      "execution_count": null,
      "outputs": []
    },
    {
      "cell_type": "code",
      "metadata": {
        "id": "nfJbRacMIAN1"
      },
      "source": [
        "# Save a copy of Glove Vector to drive.\n",
        "#!cp embedding_matrix_model.npy gdrive/My\\ Drive/ML\\ Revision/Amazon\\ Fine\\ Food\\ Review/"
      ],
      "execution_count": null,
      "outputs": []
    },
    {
      "cell_type": "markdown",
      "metadata": {
        "id": "MRmLqHxtGRy0"
      },
      "source": [
        "# Model"
      ]
    },
    {
      "cell_type": "code",
      "metadata": {
        "id": "NMRf9xRdrU30"
      },
      "source": [
        "!cp gdrive/My\\ Drive/ML\\ Revision/Amazon\\ Fine\\ Food\\ Review/embedding_matrix_model.npy /content/"
      ],
      "execution_count": null,
      "outputs": []
    },
    {
      "cell_type": "code",
      "metadata": {
        "id": "cf3x76gWFzro"
      },
      "source": [
        "#loading embedding\n",
        "embedding_matrix = np.load('embedding_matrix_model.npy')\n",
        "\n",
        "\n",
        "final_train = seq_train_pad\n",
        "final_test = seq_test_pad\n",
        "# create Tensor datasets\n",
        "train_data = TensorDataset(torch.from_numpy(final_train), torch.from_numpy(y_train.values))\n",
        "test_data = TensorDataset(torch.from_numpy(final_test), torch.from_numpy(y_test.values))\n",
        "\n",
        "# dataloaders\n",
        "batch_size = 500\n",
        "\n",
        "# make sure to SHUFFLE your data\n",
        "train_loader = DataLoader(train_data,  batch_size=batch_size, shuffle=True)\n",
        "test_loader = DataLoader(test_data,  batch_size=batch_size, shuffle=True )"
      ],
      "execution_count": null,
      "outputs": []
    },
    {
      "cell_type": "code",
      "metadata": {
        "id": "FMLy91enHUzT",
        "outputId": "00dee96f-697e-4500-ee16-3a7eabdb480d",
        "colab": {
          "base_uri": "https://localhost:8080/",
          "height": 51
        }
      },
      "source": [
        "x, y = next(iter(train_loader))\n",
        "print(x.shape)\n",
        "print(y.shape)"
      ],
      "execution_count": null,
      "outputs": [
        {
          "output_type": "stream",
          "text": [
            "torch.Size([500, 225])\n",
            "torch.Size([500])\n"
          ],
          "name": "stdout"
        }
      ]
    },
    {
      "cell_type": "markdown",
      "metadata": {
        "id": "NjBUL3Q5rpFY"
      },
      "source": [
        "# Model 1"
      ]
    },
    {
      "cell_type": "code",
      "metadata": {
        "id": "JQIwTUxDH0uO"
      },
      "source": [
        "class Network(nn.Module):\n",
        "  def __init__(self,embedding_matrix,hidden_dim,no_layers=1):\n",
        "    super().__init__()\n",
        "    vocab_size = embedding_matrix.shape[0]\n",
        "    embedding_dim = embedding_matrix.shape[1]\n",
        "    self.hidden_dim = hidden_dim\n",
        "    self.n_layers = no_layers\n",
        "    self.embedding = nn.Embedding(vocab_size,embedding_dim)\n",
        "    self.embedding.weight.data.copy_(torch.from_numpy(embedding_matrix))\n",
        "    self.embedding.weight.requires_grad = False\n",
        "\n",
        "    self.lstm = nn.LSTM(embedding_dim,hidden_size=self.hidden_dim,batch_first=True,num_layers=self.n_layers)\n",
        "    self.dropout = nn.Dropout(0.2)\n",
        "    self.linear1 = nn.Linear(self.hidden_dim,self.hidden_dim//2)\n",
        "    self.linear2 = nn.Linear(self.hidden_dim//2,2)\n",
        "\n",
        "  def forward(self,x):\n",
        "    batch_size= x.shape[0]     #batch_size,seq_len\n",
        "    x = self.embedding(x)      #batch_size,seq_len,embed_dim\n",
        "    lstm_out,h = self.lstm(x)  #batch_size,seq_len,hidden_dim*no_layers \n",
        "    lstm_out = self.dropout(lstm_out)\n",
        "    lstm_out = lstm_out.contiguous().view(-1,self.hidden_dim)  #batch_size*seq_len*no_layers,hidden_dim\n",
        "    out = self.linear1(lstm_out)   #batch_size*seq_len*no_layers, out_dim\n",
        "    out = self.linear2(out)\n",
        "    out = out.view(batch_size,-1) #batch_size,seq_len*out_dim*no_layers\n",
        "    return out[:,-2:]"
      ],
      "execution_count": null,
      "outputs": []
    },
    {
      "cell_type": "code",
      "metadata": {
        "id": "BO62cauW9rCu"
      },
      "source": [
        "class TNetwork(nn.Module):\n",
        "  def __init__(self,embedding_matrix,hidden_dim,no_layers=1):\n",
        "    super().__init__()\n",
        "    vocab_size = embedding_matrix.shape[0]\n",
        "    embedding_dim = embedding_matrix.shape[1]\n",
        "    self.hidden_dim = hidden_dim\n",
        "    self.n_layers = no_layers\n",
        "    self.embedding = nn.Embedding(vocab_size,embedding_dim)\n",
        "    self.embedding.weight.data.copy_(torch.from_numpy(embedding_matrix))\n",
        "    self.embedding.weight.requires_grad = False\n",
        "\n",
        "    self.lstm = nn.LSTM(embedding_dim,hidden_size=self.hidden_dim,batch_first=True,num_layers=self.n_layers)\n",
        "    self.dropout = nn.Dropout(0.2)\n",
        "    self.linear1 = nn.Linear(self.hidden_dim,self.hidden_dim//2)\n",
        "    self.linear2 = nn.Linear(self.hidden_dim//2,2)\n",
        "\n",
        "  def forward(self,x):\n",
        "    batch_size= x.shape[0]     #batch_size,seq_len\n",
        "    x = self.embedding(x)      #batch_size,seq_len,embed_dim\n",
        "    lstm_out,h = self.lstm(x)  #batch_size,seq_len,hidden_dim*no_layers \n",
        "    lstm_out = self.dropout(lstm_out)\n",
        "    lstm_out = lstm_out.contiguous().view(-1,self.hidden_dim)  #batch_size*seq_len*no_layers,hidden_dim\n",
        "    out = self.linear1(lstm_out)   #batch_size*seq_len*no_layers, out_dim\n",
        "    out = self.linear2(out)\n",
        "    out = out.view(batch_size,-1) #batch_size,seq_len*out_dim*no_layers\n",
        "    return out[:,-2:]"
      ],
      "execution_count": null,
      "outputs": []
    },
    {
      "cell_type": "code",
      "metadata": {
        "id": "V9hv4BRErqfG",
        "outputId": "af3cdc39-5f03-4414-97d7-b534e72ceba6",
        "colab": {
          "base_uri": "https://localhost:8080/",
          "height": 136
        }
      },
      "source": [
        "device = torch.device('cuda:0' if torch.cuda.is_available() else 'cpu')\n",
        "model = TNetwork(embedding_matrix,hidden_dim=100,no_layers=2)\n",
        "model = model.to(device)\n",
        "model"
      ],
      "execution_count": null,
      "outputs": [
        {
          "output_type": "execute_result",
          "data": {
            "text/plain": [
              "TNetwork(\n",
              "  (embedding): Embedding(94854, 300)\n",
              "  (lstm): LSTM(300, 100, num_layers=2, batch_first=True)\n",
              "  (dropout): Dropout(p=0.2, inplace=False)\n",
              "  (linear1): Linear(in_features=100, out_features=50, bias=True)\n",
              "  (linear2): Linear(in_features=50, out_features=2, bias=True)\n",
              ")"
            ]
          },
          "metadata": {
            "tags": []
          },
          "execution_count": 24
        }
      ]
    },
    {
      "cell_type": "code",
      "metadata": {
        "id": "33Mh7OG8r0wN"
      },
      "source": [
        "criterion = nn.CrossEntropyLoss()\n",
        "parameters = filter(lambda p: p.requires_grad, model.parameters())\n",
        "optimizer = torch.optim.Adam(params=parameters,lr=0.001)\n",
        "\n",
        "\n",
        "# helper functions\n",
        "#function to calculate auc and accuracy\n",
        "def score(y,y_pred,y_prob_pred):\n",
        "  roc_score = roc_auc_score(y,y_prob_pred)\n",
        "  acc = accuracy_score(y,y_pred)\n",
        "  return roc_score, acc\n",
        "\n",
        "def save_ckp(state, is_best, checkpoint_path, best_model_path):\n",
        "  \"\"\"\n",
        "  state: checkpoint we want to save\n",
        "  is_best: is this the best checkpoint; min validation loss\n",
        "  checkpoint_path: path to save checkpoint\n",
        "  best_model_path: path to save best model\n",
        "  \"\"\"\n",
        "  # save checkpoint data to the path given, checkpoint_path\n",
        "  torch.save(state, checkpoint_path)\n",
        "  # if it is a best model, min validation loss\n",
        "  if is_best:\n",
        "  # copy that checkpoint file to best path given, best_model_path\n",
        "      shutil.copyfile(checkpoint_path, best_model_path)"
      ],
      "execution_count": null,
      "outputs": []
    },
    {
      "cell_type": "code",
      "metadata": {
        "id": "hZE-DtTX_PbU"
      },
      "source": [
        "mkdir models"
      ],
      "execution_count": null,
      "outputs": []
    },
    {
      "cell_type": "code",
      "metadata": {
        "id": "I6PrFDr-t30V",
        "outputId": "ee5daf41-78b5-4311-e06a-2d37c136c14f",
        "colab": {
          "base_uri": "https://localhost:8080/",
          "height": 51
        }
      },
      "source": [
        "ls"
      ],
      "execution_count": null,
      "outputs": [
        {
          "output_type": "stream",
          "text": [
            "corpus_dict                 \u001b[0m\u001b[01;34mgdrive\u001b[0m/           \u001b[01;34msample_data\u001b[0m/\n",
            "embedding_matrix_model.npy  processed_df.csv\n"
          ],
          "name": "stdout"
        }
      ]
    },
    {
      "cell_type": "code",
      "metadata": {
        "id": "RR4xFCeEr7DW",
        "outputId": "294c1237-88a2-4d03-b4dc-717b7a065f1b",
        "colab": {
          "base_uri": "https://localhost:8080/",
          "height": 459
        }
      },
      "source": [
        "metrics = {'train_auc': [],'test_auc' : [], 'train_accuracy':[], 'test_accuracy':[], 'train_loss':[],'test_loss': []}\n",
        "epochs = 5\n",
        "checkpoint_path = 'models/chkpoint1_'\n",
        "best_model_path = 'models/bestmodel1.pt'\n",
        "test_loss_min = np.Inf\n",
        "\n",
        "for epoch in range(epochs):\n",
        "    start_time = time.time()\n",
        "    print(f'Epoch {epoch + 1}')\n",
        "    AUC = 0.0 \n",
        "    ACC = 0.0\n",
        "    LOSS = 0.0\n",
        "    model.train()\n",
        "    for x,y in train_loader:\n",
        "        batch_size = x.shape[0]\n",
        "        x = x.long()\n",
        "        y = y.long()\n",
        "        x = x.to(device)\n",
        "        y = y.to(device)\n",
        "        optimizer.zero_grad()\n",
        "        y_pred = model(x)\n",
        "        loss = criterion(y_pred,y)\n",
        "        loss.backward()\n",
        "        # nn.utils.clip_grad_norm(model.parameters(), clip)\n",
        "        optimizer.step()\n",
        "        _, y_hat_pred = torch.max(y_pred,axis=1)\n",
        "        y_hat_prob = y_pred[:,-1]\n",
        "        y_, y_hat_pred_,y_hat_prob_ = y.detach(), y_hat_pred.detach(), y_hat_prob.detach()\n",
        "        auc_score, acc = score(y_.cpu().numpy(), y_hat_pred_.cpu().numpy(), y_hat_prob_.cpu().numpy())\n",
        "        ACC += (acc * batch_size)\n",
        "        LOSS += (loss * batch_size)\n",
        "        AUC += (auc_score * batch_size)\n",
        "\n",
        "    epoch_auc = AUC / len(train_loader.dataset)\n",
        "    train_epoch_loss = LOSS / len(train_loader.dataset)\n",
        "    epoch_accuracy = ACC / len(train_loader.dataset)\n",
        "    metrics['train_auc'].append(epoch_auc)\n",
        "    metrics['train_accuracy'].append(epoch_accuracy)\n",
        "    metrics['train_loss'].append(train_epoch_loss)\n",
        "    print(f'Train:  Loss: {train_epoch_loss}, Accuracy: {epoch_accuracy}, AUC: {epoch_auc}')\n",
        "\n",
        "\n",
        "    AUC = 0.0 \n",
        "    ACC = 0.0\n",
        "    LOSS = 0.0\n",
        "    model.eval()\n",
        "    with torch.no_grad():\n",
        "      for x,y in test_loader:\n",
        "        batch_size = x.shape[0]\n",
        "        x = x.long()\n",
        "        y = y.long()\n",
        "        x = x.to(device)\n",
        "        y = y.to(device)\n",
        "        y_pred = model(x)\n",
        "        loss = criterion(y_pred,y)\n",
        "        _, y_hat_pred = torch.max(y_pred,axis=1)\n",
        "        y_hat_prob = y_pred[:,-1]\n",
        "        y_, y_hat_pred_,y_hat_prob_ = y.detach(), y_hat_pred.detach(), y_hat_prob.detach()  # detaching from torch graph to use it for calculation auc\n",
        "        auc_score, acc = score(y_.cpu().numpy(), y_hat_pred_.cpu().numpy(), y_hat_prob_.cpu().numpy())\n",
        "        ACC += (acc * batch_size)\n",
        "        LOSS += (loss * batch_size)\n",
        "        AUC += (auc_score * batch_size)\n",
        "\n",
        "    epoch_auc = AUC / len(test_loader.dataset)\n",
        "    test_epoch_loss = LOSS / len(test_loader.dataset)\n",
        "    epoch_accuracy = ACC / len(test_loader.dataset)\n",
        "\n",
        "    metrics['test_auc'].append(epoch_auc)\n",
        "    metrics['test_accuracy'].append(epoch_accuracy)\n",
        "    metrics['test_loss'].append(test_epoch_loss)\n",
        "    print(f'Validation Loss: {test_epoch_loss}, Accuracy: {epoch_accuracy}, AUC: {epoch_auc}')\n",
        "    #save checkpoint\n",
        "    checkpoint = {\n",
        "            'epoch': epoch + 1,\n",
        "            'valid_loss_min': test_epoch_loss,\n",
        "            'state_dict': model.state_dict(),\n",
        "            'optimizer': optimizer.state_dict(),\n",
        "        }\n",
        "    save_ckp(checkpoint, False, checkpoint_path, best_model_path)\n",
        "    if test_epoch_loss <= train_epoch_loss and test_epoch_loss <= test_loss_min:\n",
        "        print('Validation loss decreased ({:.6f}).  Saving model ...'.format(test_epoch_loss))\n",
        "        # save checkpoint as best model\n",
        "        save_ckp(checkpoint, True, checkpoint_path, best_model_path)\n",
        "        test_loss_min = test_epoch_loss\n",
        "\n",
        "    time_elapsed = time.time() - start_time\n",
        "    print('{:.0f}m {:.0f}s'.format(time_elapsed // 60, time_elapsed % 60))\n",
        "    print('--'*50)"
      ],
      "execution_count": null,
      "outputs": [
        {
          "output_type": "stream",
          "text": [
            "Epoch 1\n",
            "Train:  Loss: 0.20893052220344543, Accuracy: 0.9164760948965154, AUC: 0.9445870330950378\n",
            "Validation Loss: 0.19354525208473206, Accuracy: 0.9228488070788307, AUC: 0.9488922343786059\n",
            "Validation loss decreased (0.193545).  Saving model ...\n",
            "1m 4s\n",
            "----------------------------------------------------------------------------------------------------\n",
            "Epoch 2\n",
            "Train:  Loss: 0.18243157863616943, Accuracy: 0.9282682373070975, AUC: 0.9588196256803699\n",
            "Validation Loss: 0.18349775671958923, Accuracy: 0.9262749764870727, AUC: 0.9564615840947545\n",
            "1m 4s\n",
            "----------------------------------------------------------------------------------------------------\n",
            "Epoch 3\n",
            "Train:  Loss: 0.16530270874500275, Accuracy: 0.935227534467441, AUC: 0.9658995040273199\n",
            "Validation Loss: 0.17761212587356567, Accuracy: 0.9311407128735676, AUC: 0.9591339156210337\n",
            "1m 6s\n",
            "----------------------------------------------------------------------------------------------------\n",
            "Epoch 4\n",
            "Train:  Loss: 0.15174759924411774, Accuracy: 0.9411009838439012, AUC: 0.971120836102593\n",
            "Validation Loss: 0.19306419789791107, Accuracy: 0.9321196184187797, AUC: 0.9581358154850752\n",
            "1m 5s\n",
            "----------------------------------------------------------------------------------------------------\n",
            "Epoch 5\n",
            "Train:  Loss: 0.14130376279354095, Accuracy: 0.9451523477345267, AUC: 0.9755810057189458\n",
            "Validation Loss: 0.1778891682624817, Accuracy: 0.929058139311695, AUC: 0.9613743805142259\n",
            "1m 4s\n",
            "----------------------------------------------------------------------------------------------------\n"
          ],
          "name": "stdout"
        }
      ]
    },
    {
      "cell_type": "code",
      "metadata": {
        "id": "spyFoK9osHyY",
        "outputId": "ca7578b5-b5a8-4bee-a2e8-2997b6c41806",
        "colab": {
          "base_uri": "https://localhost:8080/",
          "height": 34
        }
      },
      "source": [
        "ls models"
      ],
      "execution_count": null,
      "outputs": [
        {
          "output_type": "stream",
          "text": [
            "bestmodel1.pt  chkpoint1_\n"
          ],
          "name": "stdout"
        }
      ]
    },
    {
      "cell_type": "code",
      "metadata": {
        "id": "bLO4sL7nuuOP"
      },
      "source": [
        "mv models/chkpoint1_ models/weight"
      ],
      "execution_count": null,
      "outputs": []
    },
    {
      "cell_type": "code",
      "metadata": {
        "id": "ZP_MJa9DA1DK",
        "outputId": "ed1d0a47-88a1-49dd-b8ad-30df9ad91428",
        "colab": {
          "base_uri": "https://localhost:8080/",
          "height": 34
        }
      },
      "source": [
        "ls models"
      ],
      "execution_count": null,
      "outputs": [
        {
          "output_type": "stream",
          "text": [
            "bestmodel1.pt  weight\n"
          ],
          "name": "stdout"
        }
      ]
    },
    {
      "cell_type": "code",
      "metadata": {
        "id": "nVAOJo42BAGP"
      },
      "source": [
        "! cp models/weight gdrive/My\\ Drive/ML\\ Revision/Amazon\\ Fine\\ Food\\ Review/models"
      ],
      "execution_count": null,
      "outputs": []
    },
    {
      "cell_type": "markdown",
      "metadata": {
        "id": "2noOibdqvXPq"
      },
      "source": [
        "# Predict"
      ]
    },
    {
      "cell_type": "code",
      "metadata": {
        "id": "ppUAJv4mu10s"
      },
      "source": [
        "# replacing some phrases like won't with will not\n",
        "\n",
        "def html_tag(phrase):\n",
        "    http_remove = re.sub(r\"http\\S+\", \"\",phrase)\n",
        "    html_remove = BeautifulSoup(http_remove, 'lxml').get_text()\n",
        "    return html_remove\n",
        "\n",
        "def decontracted(phrase):\n",
        "    # specific\n",
        "    phrase = re.sub(r\"won't\", \"will not\", phrase)\n",
        "    phrase = re.sub(r\"can\\'t\", \"can not\", phrase)\n",
        "\n",
        "    # general\n",
        "    phrase = re.sub(r\"n\\'t\", \" not\", phrase)\n",
        "    phrase = re.sub(r\"\\'re\", \" are\", phrase)\n",
        "    phrase = re.sub(r\"\\'s\", \" is\", phrase)\n",
        "    phrase = re.sub(r\"\\'d\", \" would\", phrase)\n",
        "    phrase = re.sub(r\"\\'ll\", \" will\", phrase)\n",
        "    phrase = re.sub(r\"\\'t\", \" not\", phrase)\n",
        "    phrase = re.sub(r\"\\'ve\", \" have\", phrase)\n",
        "    phrase = re.sub(r\"\\'m\", \" am\", phrase)\n",
        "    return phrase\n",
        "\n",
        "\n",
        "stopwords= set(['br', 'the', 'i', 'me', 'my', 'myself', 'we', 'our', 'ours', 'ourselves', 'you', \"you're\", \"you've\",\\\n",
        "            \"you'll\", \"you'd\", 'your', 'yours', 'yourself', 'yourselves', 'he', 'him', 'his', 'himself', \\\n",
        "            'she', \"she's\", 'her', 'hers', 'herself', 'it', \"it's\", 'its', 'itself', 'they', 'them', 'their',\\\n",
        "            'theirs', 'themselves', 'what', 'which', 'who', 'whom', 'this', 'that', \"that'll\", 'these', 'those', \\\n",
        "            'am', 'is', 'are', 'was', 'were', 'be', 'been', 'being', 'have', 'has', 'had', 'having', 'do', 'does', \\\n",
        "            'did', 'doing', 'a', 'an', 'the', 'and', 'but', 'if', 'or', 'because', 'as', 'until', 'while', 'of', \\\n",
        "            'at', 'by', 'for', 'with', 'about', 'against', 'between', 'into', 'through', 'during', 'before', 'after',\\\n",
        "            'above', 'below', 'to', 'from', 'up', 'down', 'in', 'out', 'on', 'off', 'over', 'under', 'again', 'further',\\\n",
        "            'then', 'once', 'here', 'there', 'when', 'where', 'why', 'how', 'all', 'any', 'both', 'each', 'few', 'more',\\\n",
        "            'most', 'other', 'some', 'such', 'only', 'own', 'same', 'so', 'than', 'too', 'very', \\\n",
        "            's', 't', 'can', 'will', 'just', 'don', \"don't\", 'should', \"should've\", 'now', 'd', 'll', 'm', 'o', 're', \\\n",
        "            've', 'y', 'ain', 'aren', \"aren't\", 'couldn', \"couldn't\", 'didn', \"didn't\", 'doesn', \"doesn't\", 'hadn',\\\n",
        "            \"hadn't\", 'hasn', \"hasn't\", 'haven', \"haven't\", 'isn', \"isn't\", 'ma', 'mightn', \"mightn't\", 'mustn',\\\n",
        "            \"mustn't\", 'needn', \"needn't\", 'shan', \"shan't\", 'shouldn', \"shouldn't\", 'wasn', \"wasn't\", 'weren', \"weren't\", \\\n",
        "            'won', \"won't\", 'wouldn', \"wouldn't\"])\n",
        "\n",
        "\n"
      ],
      "execution_count": null,
      "outputs": []
    },
    {
      "cell_type": "code",
      "metadata": {
        "id": "EGDFz2OxvZZb"
      },
      "source": [
        "def predict(sentance,seq_len,corpus_dict_):\n",
        "  sentance = html_tag(sentance)\n",
        "  sentance = decontracted(sentance)\n",
        "  # removing extra spaces and numbers\n",
        "  sentance = re.sub(\"\\S*\\d\\S*\", \"\", sentance).strip()\n",
        "  # removing non alphabels\n",
        "  sentance = re.sub('[^A-Za-z]+', ' ', sentance)\n",
        "  text = ' '.join(e.lower() for e in sentance.split() if e.lower() not in stopwords)\n",
        "\n",
        "  seq = [corpus_dict_[word] for word in text.split() if word in corpus_dict_.keys()]\n",
        "\n",
        "  #padding\n",
        "  padd = np.zeros((1,seq_len),dtype=int)\n",
        "  padd[0][-len(seq):] = seq\n",
        "  padd = torch.from_numpy(padd)\n",
        "  #prediction\n",
        "  padd = padd.to(device)\n",
        "  y_pred = model(padd)\n",
        "\n",
        "  #returning probability and class\n",
        "  prob = y_pred[:,-1]\n",
        "  prob = F.sigmoid(prob)\n",
        "  prob = prob.detach().cpu().numpy()[0]\n",
        "  label = 'positive' if prob >= 0.5 else 'negative'\n",
        "  prob = prob if label == 'positive' else 1-prob\n",
        "  return [label,prob]"
      ],
      "execution_count": null,
      "outputs": []
    },
    {
      "cell_type": "code",
      "metadata": {
        "id": "WnNB9MIFxKRy",
        "outputId": "ff2de041-57fa-4aa7-b748-1ee18d0e8a00",
        "colab": {
          "base_uri": "https://localhost:8080/"
        }
      },
      "source": [
        "ls models"
      ],
      "execution_count": null,
      "outputs": [
        {
          "output_type": "stream",
          "text": [
            "bestmodel1.pt  chkpoint1_\n"
          ],
          "name": "stdout"
        }
      ]
    },
    {
      "cell_type": "code",
      "metadata": {
        "id": "SeWkBQxcxQxe"
      },
      "source": [
        "cp corpus_dict gdrive/My\\ Drive/ML\\ Revision/Amazon\\ Fine\\ Food\\ Review/"
      ],
      "execution_count": null,
      "outputs": []
    },
    {
      "cell_type": "code",
      "metadata": {
        "id": "_ty_UUzgxZ9x"
      },
      "source": [
        "!cp -r models/ gdrive/My\\ Drive/ML\\ Revision/Amazon\\ Fine\\ Food\\ Review/"
      ],
      "execution_count": null,
      "outputs": []
    },
    {
      "cell_type": "code",
      "metadata": {
        "id": "-kSFDCzyxxmI"
      },
      "source": [
        "#loading embedding\n",
        "embedding_matrix = np.load('embedding_matrix_model.npy')\n",
        "device = torch.device('cuda:0' if torch.cuda.is_available() else 'cpu')\n",
        "model = Network(embedding_matrix,hidden_dim=100,no_layers=1)\n",
        "model = model.to(device)\n",
        "checkpoint_fpath = 'models/chkpoint1_'\n",
        "checkpoint = torch.load(checkpoint_fpath,map_location=device)"
      ],
      "execution_count": null,
      "outputs": []
    },
    {
      "cell_type": "code",
      "metadata": {
        "id": "GSMZXVNAynS-",
        "outputId": "a3d3fd60-e625-4cd3-c671-5ab6759fb7d3",
        "colab": {
          "base_uri": "https://localhost:8080/"
        }
      },
      "source": [
        "model"
      ],
      "execution_count": null,
      "outputs": [
        {
          "output_type": "execute_result",
          "data": {
            "text/plain": [
              "Network(\n",
              "  (embedding): Embedding(94854, 300)\n",
              "  (lstm): LSTM(300, 100, batch_first=True)\n",
              "  (dropout): Dropout(p=0.2, inplace=False)\n",
              "  (linear1): Linear(in_features=100, out_features=50, bias=True)\n",
              "  (linear2): Linear(in_features=50, out_features=2, bias=True)\n",
              ")"
            ]
          },
          "metadata": {
            "tags": []
          },
          "execution_count": 51
        }
      ]
    },
    {
      "cell_type": "code",
      "metadata": {
        "id": "NGwcIrwiy4Zv",
        "outputId": "5721e050-469f-4e51-a2da-775a1cbaecc2",
        "colab": {
          "base_uri": "https://localhost:8080/"
        }
      },
      "source": [
        "model.load_state_dict(checkpoint['state_dict'])\n",
        "model"
      ],
      "execution_count": null,
      "outputs": [
        {
          "output_type": "execute_result",
          "data": {
            "text/plain": [
              "Network(\n",
              "  (embedding): Embedding(94854, 300)\n",
              "  (lstm): LSTM(300, 100, batch_first=True)\n",
              "  (dropout): Dropout(p=0.2, inplace=False)\n",
              "  (linear1): Linear(in_features=100, out_features=50, bias=True)\n",
              "  (linear2): Linear(in_features=50, out_features=2, bias=True)\n",
              ")"
            ]
          },
          "metadata": {
            "tags": []
          },
          "execution_count": 52
        }
      ]
    },
    {
      "cell_type": "code",
      "metadata": {
        "id": "QQkwATcUz9Pw",
        "outputId": "6f5427de-111b-44e1-abba-08e2b4851fe1",
        "colab": {
          "base_uri": "https://localhost:8080/"
        }
      },
      "source": [
        "input_text = \"it was an awesome cookie with apple flavour 234 ideally and i loved it very much and i won't suggest it to everyone\"\n",
        "# Opening JSON file \n",
        "with open('corpus_dict') as json_file: \n",
        "    corpus_dict_ = json.load(json_file)\n",
        "\n",
        "\n",
        "out = predict(input_text,225,corpus_dict_)\n",
        "print(f'Predicted  as class {out[0]} with a probability of {out[1]}')"
      ],
      "execution_count": null,
      "outputs": [
        {
          "output_type": "stream",
          "text": [
            "Predicted  as class positive with a probability of 0.8994130492210388\n"
          ],
          "name": "stdout"
        }
      ]
    },
    {
      "cell_type": "code",
      "metadata": {
        "id": "5E5GekV30FHo"
      },
      "source": [
        ""
      ],
      "execution_count": null,
      "outputs": []
    }
  ]
}